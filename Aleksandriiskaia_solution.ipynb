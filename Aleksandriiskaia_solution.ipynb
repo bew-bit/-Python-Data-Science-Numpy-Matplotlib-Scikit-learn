{
 "cells": [
  {
   "cell_type": "markdown",
   "metadata": {},
   "source": [
    "## Курсовой проект для курса \"Python для Data Science\""
   ]
  },
  {
   "cell_type": "markdown",
   "metadata": {},
   "source": [
    "**Задание:**\n",
    "Используя данные из обучающего датасета (train.csv), построить модель для предсказания цен на недвижимость (квартиры).\n",
    "С помощью полученной модели, предсказать цены для квартир из тестового датасета (test.csv).\n",
    "\n",
    "**Целевая переменная:**\n",
    "Price\n",
    "\n",
    "**Метрика качества:**\n",
    "R2 - коэффициент детерминации (sklearn.metrics.r2_score)\n",
    "\n",
    "**Описание датасета:**\n",
    "* **Id** - идентификационный номер квартиры\n",
    "* **DistrictId** - идентификационный номер района\n",
    "* **Rooms** - количество комнат\n",
    "* **Square** - площадь\n",
    "* **LifeSquare** - жилая площадь\n",
    "* **KitchenSquare** - площадь кухни\n",
    "* **Floor** - этаж\n",
    "* **HouseFloor** - количество этажей в доме\n",
    "* **HouseYear** - год постройки дома\n",
    "* **Ecology_1, Ecology_2, Ecology_3** - экологические показатели местности\n",
    "* **Social_1, Social_2, Social_3** - социальные показатели местности\n",
    "* **Healthcare_1, Helthcare_2** - показатели местности, связанные с охраной здоровья\n",
    "* **Shops_1, Shops_2** - показатели, связанные с наличием магазинов, торговых центров\n",
    "* **Price** - цена квартиры"
   ]
  },
  {
   "cell_type": "markdown",
   "metadata": {},
   "source": [
    "### Подключение библиотек и модулей"
   ]
  },
  {
   "cell_type": "code",
   "execution_count": 1,
   "metadata": {},
   "outputs": [],
   "source": [
    "import numpy as np\n",
    "import pandas as pd\n",
    "import matplotlib.pyplot as plt\n",
    "#%matplotlib inline\n",
    "#%config InlineBackend.figure_format='svg'\n",
    "plt.style.use('fivethirtyeight')\n",
    "import seaborn as sns\n",
    "from sklearn.model_selection import train_test_split\n",
    "from sklearn.preprocessing import StandardScaler\n",
    "from sklearn.linear_model import LinearRegression\n",
    "from sklearn.ensemble import RandomForestRegressor\n",
    "from sklearn.metrics import r2_score, mean_absolute_error as mae\n",
    "\n",
    "import warnings\n",
    "warnings.filterwarnings('ignore')"
   ]
  },
  {
   "cell_type": "markdown",
   "metadata": {},
   "source": [
    "### Создание функций"
   ]
  },
  {
   "cell_type": "markdown",
   "metadata": {},
   "source": [
    "для перевода значений категориальных признаков датасэта курсового проекта в бинарные:"
   ]
  },
  {
   "cell_type": "code",
   "execution_count": 2,
   "metadata": {},
   "outputs": [],
   "source": [
    "def to_binary(column,df):\n",
    "    df[column]=np.where(df[column]=='A',0,1)\n",
    "    return df[column].value_counts()"
   ]
  },
  {
   "cell_type": "markdown",
   "metadata": {},
   "source": [
    "для удаления выбросов:"
   ]
  },
  {
   "cell_type": "code",
   "execution_count": 3,
   "metadata": {},
   "outputs": [],
   "source": [
    "def outlier_removal(column,df):\n",
    "    Q1=df[column].quantile(0.25)\n",
    "    Q3=df[column].quantile(0.75)\n",
    "    IQR=Q3-Q1\n",
    "    df.drop(df[(df[column]<(Q1-1.5*IQR))|(df[column]>(Q1+1.5*IQR))].index,inplace=True)"
   ]
  },
  {
   "cell_type": "markdown",
   "metadata": {},
   "source": [
    "для построения диаграммы рассеяния:"
   ]
  },
  {
   "cell_type": "code",
   "execution_count": 4,
   "metadata": {},
   "outputs": [],
   "source": [
    "def scatter(column_1,column_2,df):\n",
    "    plt.scatter(df[column_1],df[column_2])\n",
    "    plt.xlabel(column_1)\n",
    "    plt.ylabel(column_2)\n",
    "    plt.show()"
   ]
  },
  {
   "cell_type": "markdown",
   "metadata": {},
   "source": [
    "### Загрузка данных"
   ]
  },
  {
   "cell_type": "code",
   "execution_count": 5,
   "metadata": {},
   "outputs": [
    {
     "data": {
      "text/html": [
       "<div>\n",
       "<style scoped>\n",
       "    .dataframe tbody tr th:only-of-type {\n",
       "        vertical-align: middle;\n",
       "    }\n",
       "\n",
       "    .dataframe tbody tr th {\n",
       "        vertical-align: top;\n",
       "    }\n",
       "\n",
       "    .dataframe thead th {\n",
       "        text-align: right;\n",
       "    }\n",
       "</style>\n",
       "<table border=\"1\" class=\"dataframe\">\n",
       "  <thead>\n",
       "    <tr style=\"text-align: right;\">\n",
       "      <th></th>\n",
       "      <th>Id</th>\n",
       "      <th>DistrictId</th>\n",
       "      <th>Rooms</th>\n",
       "      <th>Square</th>\n",
       "      <th>LifeSquare</th>\n",
       "      <th>KitchenSquare</th>\n",
       "      <th>Floor</th>\n",
       "      <th>HouseFloor</th>\n",
       "      <th>HouseYear</th>\n",
       "      <th>Ecology_1</th>\n",
       "      <th>Ecology_2</th>\n",
       "      <th>Ecology_3</th>\n",
       "      <th>Social_1</th>\n",
       "      <th>Social_2</th>\n",
       "      <th>Social_3</th>\n",
       "      <th>Healthcare_1</th>\n",
       "      <th>Helthcare_2</th>\n",
       "      <th>Shops_1</th>\n",
       "      <th>Shops_2</th>\n",
       "      <th>Price</th>\n",
       "    </tr>\n",
       "  </thead>\n",
       "  <tbody>\n",
       "    <tr>\n",
       "      <th>0</th>\n",
       "      <td>14038</td>\n",
       "      <td>35</td>\n",
       "      <td>2.0</td>\n",
       "      <td>47.981561</td>\n",
       "      <td>29.442751</td>\n",
       "      <td>6.0</td>\n",
       "      <td>7</td>\n",
       "      <td>9.0</td>\n",
       "      <td>1969</td>\n",
       "      <td>0.089040</td>\n",
       "      <td>B</td>\n",
       "      <td>B</td>\n",
       "      <td>33</td>\n",
       "      <td>7976</td>\n",
       "      <td>5</td>\n",
       "      <td>NaN</td>\n",
       "      <td>0</td>\n",
       "      <td>11</td>\n",
       "      <td>B</td>\n",
       "      <td>184966.930730</td>\n",
       "    </tr>\n",
       "    <tr>\n",
       "      <th>1</th>\n",
       "      <td>15053</td>\n",
       "      <td>41</td>\n",
       "      <td>3.0</td>\n",
       "      <td>65.683640</td>\n",
       "      <td>40.049543</td>\n",
       "      <td>8.0</td>\n",
       "      <td>7</td>\n",
       "      <td>9.0</td>\n",
       "      <td>1978</td>\n",
       "      <td>0.000070</td>\n",
       "      <td>B</td>\n",
       "      <td>B</td>\n",
       "      <td>46</td>\n",
       "      <td>10309</td>\n",
       "      <td>1</td>\n",
       "      <td>240.0</td>\n",
       "      <td>1</td>\n",
       "      <td>16</td>\n",
       "      <td>B</td>\n",
       "      <td>300009.450063</td>\n",
       "    </tr>\n",
       "    <tr>\n",
       "      <th>2</th>\n",
       "      <td>4765</td>\n",
       "      <td>53</td>\n",
       "      <td>2.0</td>\n",
       "      <td>44.947953</td>\n",
       "      <td>29.197612</td>\n",
       "      <td>0.0</td>\n",
       "      <td>8</td>\n",
       "      <td>12.0</td>\n",
       "      <td>1968</td>\n",
       "      <td>0.049637</td>\n",
       "      <td>B</td>\n",
       "      <td>B</td>\n",
       "      <td>34</td>\n",
       "      <td>7759</td>\n",
       "      <td>0</td>\n",
       "      <td>229.0</td>\n",
       "      <td>1</td>\n",
       "      <td>3</td>\n",
       "      <td>B</td>\n",
       "      <td>220925.908524</td>\n",
       "    </tr>\n",
       "    <tr>\n",
       "      <th>3</th>\n",
       "      <td>5809</td>\n",
       "      <td>58</td>\n",
       "      <td>2.0</td>\n",
       "      <td>53.352981</td>\n",
       "      <td>52.731512</td>\n",
       "      <td>9.0</td>\n",
       "      <td>8</td>\n",
       "      <td>17.0</td>\n",
       "      <td>1977</td>\n",
       "      <td>0.437885</td>\n",
       "      <td>B</td>\n",
       "      <td>B</td>\n",
       "      <td>23</td>\n",
       "      <td>5735</td>\n",
       "      <td>3</td>\n",
       "      <td>1084.0</td>\n",
       "      <td>0</td>\n",
       "      <td>5</td>\n",
       "      <td>B</td>\n",
       "      <td>175616.227217</td>\n",
       "    </tr>\n",
       "    <tr>\n",
       "      <th>4</th>\n",
       "      <td>10783</td>\n",
       "      <td>99</td>\n",
       "      <td>1.0</td>\n",
       "      <td>39.649192</td>\n",
       "      <td>23.776169</td>\n",
       "      <td>7.0</td>\n",
       "      <td>11</td>\n",
       "      <td>12.0</td>\n",
       "      <td>1976</td>\n",
       "      <td>0.012339</td>\n",
       "      <td>B</td>\n",
       "      <td>B</td>\n",
       "      <td>35</td>\n",
       "      <td>5776</td>\n",
       "      <td>1</td>\n",
       "      <td>2078.0</td>\n",
       "      <td>2</td>\n",
       "      <td>4</td>\n",
       "      <td>B</td>\n",
       "      <td>150226.531644</td>\n",
       "    </tr>\n",
       "  </tbody>\n",
       "</table>\n",
       "</div>"
      ],
      "text/plain": [
       "      Id  DistrictId  Rooms     Square  LifeSquare  KitchenSquare  Floor  \\\n",
       "0  14038          35    2.0  47.981561   29.442751            6.0      7   \n",
       "1  15053          41    3.0  65.683640   40.049543            8.0      7   \n",
       "2   4765          53    2.0  44.947953   29.197612            0.0      8   \n",
       "3   5809          58    2.0  53.352981   52.731512            9.0      8   \n",
       "4  10783          99    1.0  39.649192   23.776169            7.0     11   \n",
       "\n",
       "   HouseFloor  HouseYear  Ecology_1 Ecology_2 Ecology_3  Social_1  Social_2  \\\n",
       "0         9.0       1969   0.089040         B         B        33      7976   \n",
       "1         9.0       1978   0.000070         B         B        46     10309   \n",
       "2        12.0       1968   0.049637         B         B        34      7759   \n",
       "3        17.0       1977   0.437885         B         B        23      5735   \n",
       "4        12.0       1976   0.012339         B         B        35      5776   \n",
       "\n",
       "   Social_3  Healthcare_1  Helthcare_2  Shops_1 Shops_2          Price  \n",
       "0         5           NaN            0       11       B  184966.930730  \n",
       "1         1         240.0            1       16       B  300009.450063  \n",
       "2         0         229.0            1        3       B  220925.908524  \n",
       "3         3        1084.0            0        5       B  175616.227217  \n",
       "4         1        2078.0            2        4       B  150226.531644  "
      ]
     },
     "execution_count": 5,
     "metadata": {},
     "output_type": "execute_result"
    }
   ],
   "source": [
    "df=pd.read_csv('train.csv')\n",
    "df.head()"
   ]
  },
  {
   "cell_type": "code",
   "execution_count": 6,
   "metadata": {},
   "outputs": [
    {
     "data": {
      "text/plain": [
       "(10000, 20)"
      ]
     },
     "execution_count": 6,
     "metadata": {},
     "output_type": "execute_result"
    }
   ],
   "source": [
    "df.shape"
   ]
  },
  {
   "cell_type": "markdown",
   "metadata": {},
   "source": [
    "### Получение информации о данных"
   ]
  },
  {
   "cell_type": "code",
   "execution_count": 7,
   "metadata": {},
   "outputs": [
    {
     "name": "stdout",
     "output_type": "stream",
     "text": [
      "<class 'pandas.core.frame.DataFrame'>\n",
      "RangeIndex: 10000 entries, 0 to 9999\n",
      "Data columns (total 20 columns):\n",
      " #   Column         Non-Null Count  Dtype  \n",
      "---  ------         --------------  -----  \n",
      " 0   Id             10000 non-null  int64  \n",
      " 1   DistrictId     10000 non-null  int64  \n",
      " 2   Rooms          10000 non-null  float64\n",
      " 3   Square         10000 non-null  float64\n",
      " 4   LifeSquare     7887 non-null   float64\n",
      " 5   KitchenSquare  10000 non-null  float64\n",
      " 6   Floor          10000 non-null  int64  \n",
      " 7   HouseFloor     10000 non-null  float64\n",
      " 8   HouseYear      10000 non-null  int64  \n",
      " 9   Ecology_1      10000 non-null  float64\n",
      " 10  Ecology_2      10000 non-null  object \n",
      " 11  Ecology_3      10000 non-null  object \n",
      " 12  Social_1       10000 non-null  int64  \n",
      " 13  Social_2       10000 non-null  int64  \n",
      " 14  Social_3       10000 non-null  int64  \n",
      " 15  Healthcare_1   5202 non-null   float64\n",
      " 16  Helthcare_2    10000 non-null  int64  \n",
      " 17  Shops_1        10000 non-null  int64  \n",
      " 18  Shops_2        10000 non-null  object \n",
      " 19  Price          10000 non-null  float64\n",
      "dtypes: float64(8), int64(9), object(3)\n",
      "memory usage: 1.5+ MB\n"
     ]
    }
   ],
   "source": [
    "df.info()"
   ]
  },
  {
   "cell_type": "code",
   "execution_count": 8,
   "metadata": {},
   "outputs": [
    {
     "data": {
      "text/plain": [
       "Id                 int64\n",
       "DistrictId         int64\n",
       "Rooms            float64\n",
       "Square           float64\n",
       "LifeSquare       float64\n",
       "KitchenSquare    float64\n",
       "Floor              int64\n",
       "HouseFloor       float64\n",
       "HouseYear          int64\n",
       "Ecology_1        float64\n",
       "Ecology_2         object\n",
       "Ecology_3         object\n",
       "Social_1           int64\n",
       "Social_2           int64\n",
       "Social_3           int64\n",
       "Healthcare_1     float64\n",
       "Helthcare_2        int64\n",
       "Shops_1            int64\n",
       "Shops_2           object\n",
       "Price            float64\n",
       "dtype: object"
      ]
     },
     "execution_count": 8,
     "metadata": {},
     "output_type": "execute_result"
    }
   ],
   "source": [
    "df.dtypes"
   ]
  },
  {
   "cell_type": "code",
   "execution_count": 9,
   "metadata": {},
   "outputs": [
    {
     "data": {
      "text/html": [
       "<div>\n",
       "<style scoped>\n",
       "    .dataframe tbody tr th:only-of-type {\n",
       "        vertical-align: middle;\n",
       "    }\n",
       "\n",
       "    .dataframe tbody tr th {\n",
       "        vertical-align: top;\n",
       "    }\n",
       "\n",
       "    .dataframe thead th {\n",
       "        text-align: right;\n",
       "    }\n",
       "</style>\n",
       "<table border=\"1\" class=\"dataframe\">\n",
       "  <thead>\n",
       "    <tr style=\"text-align: right;\">\n",
       "      <th></th>\n",
       "      <th>Id</th>\n",
       "      <th>DistrictId</th>\n",
       "      <th>Rooms</th>\n",
       "      <th>Square</th>\n",
       "      <th>LifeSquare</th>\n",
       "      <th>KitchenSquare</th>\n",
       "      <th>Floor</th>\n",
       "      <th>HouseFloor</th>\n",
       "      <th>HouseYear</th>\n",
       "      <th>Ecology_1</th>\n",
       "      <th>Social_1</th>\n",
       "      <th>Social_2</th>\n",
       "      <th>Social_3</th>\n",
       "      <th>Healthcare_1</th>\n",
       "      <th>Helthcare_2</th>\n",
       "      <th>Shops_1</th>\n",
       "      <th>Price</th>\n",
       "    </tr>\n",
       "  </thead>\n",
       "  <tbody>\n",
       "    <tr>\n",
       "      <th>count</th>\n",
       "      <td>10000.00000</td>\n",
       "      <td>10000.000000</td>\n",
       "      <td>10000.000000</td>\n",
       "      <td>10000.000000</td>\n",
       "      <td>7887.000000</td>\n",
       "      <td>10000.000000</td>\n",
       "      <td>10000.000000</td>\n",
       "      <td>10000.000000</td>\n",
       "      <td>1.000000e+04</td>\n",
       "      <td>10000.000000</td>\n",
       "      <td>10000.000000</td>\n",
       "      <td>10000.000000</td>\n",
       "      <td>10000.000000</td>\n",
       "      <td>5202.000000</td>\n",
       "      <td>10000.000000</td>\n",
       "      <td>10000.000000</td>\n",
       "      <td>10000.000000</td>\n",
       "    </tr>\n",
       "    <tr>\n",
       "      <th>mean</th>\n",
       "      <td>8383.40770</td>\n",
       "      <td>50.400800</td>\n",
       "      <td>1.890500</td>\n",
       "      <td>56.315775</td>\n",
       "      <td>37.199645</td>\n",
       "      <td>6.273300</td>\n",
       "      <td>8.526700</td>\n",
       "      <td>12.609400</td>\n",
       "      <td>3.990166e+03</td>\n",
       "      <td>0.118858</td>\n",
       "      <td>24.687000</td>\n",
       "      <td>5352.157400</td>\n",
       "      <td>8.039200</td>\n",
       "      <td>1142.904460</td>\n",
       "      <td>1.319500</td>\n",
       "      <td>4.231300</td>\n",
       "      <td>214138.857399</td>\n",
       "    </tr>\n",
       "    <tr>\n",
       "      <th>std</th>\n",
       "      <td>4859.01902</td>\n",
       "      <td>43.587592</td>\n",
       "      <td>0.839512</td>\n",
       "      <td>21.058732</td>\n",
       "      <td>86.241209</td>\n",
       "      <td>28.560917</td>\n",
       "      <td>5.241148</td>\n",
       "      <td>6.775974</td>\n",
       "      <td>2.005003e+05</td>\n",
       "      <td>0.119025</td>\n",
       "      <td>17.532614</td>\n",
       "      <td>4006.799803</td>\n",
       "      <td>23.831875</td>\n",
       "      <td>1021.517264</td>\n",
       "      <td>1.493601</td>\n",
       "      <td>4.806341</td>\n",
       "      <td>92872.293865</td>\n",
       "    </tr>\n",
       "    <tr>\n",
       "      <th>min</th>\n",
       "      <td>0.00000</td>\n",
       "      <td>0.000000</td>\n",
       "      <td>0.000000</td>\n",
       "      <td>1.136859</td>\n",
       "      <td>0.370619</td>\n",
       "      <td>0.000000</td>\n",
       "      <td>1.000000</td>\n",
       "      <td>0.000000</td>\n",
       "      <td>1.910000e+03</td>\n",
       "      <td>0.000000</td>\n",
       "      <td>0.000000</td>\n",
       "      <td>168.000000</td>\n",
       "      <td>0.000000</td>\n",
       "      <td>0.000000</td>\n",
       "      <td>0.000000</td>\n",
       "      <td>0.000000</td>\n",
       "      <td>59174.778028</td>\n",
       "    </tr>\n",
       "    <tr>\n",
       "      <th>25%</th>\n",
       "      <td>4169.50000</td>\n",
       "      <td>20.000000</td>\n",
       "      <td>1.000000</td>\n",
       "      <td>41.774881</td>\n",
       "      <td>22.769832</td>\n",
       "      <td>1.000000</td>\n",
       "      <td>4.000000</td>\n",
       "      <td>9.000000</td>\n",
       "      <td>1.974000e+03</td>\n",
       "      <td>0.017647</td>\n",
       "      <td>6.000000</td>\n",
       "      <td>1564.000000</td>\n",
       "      <td>0.000000</td>\n",
       "      <td>350.000000</td>\n",
       "      <td>0.000000</td>\n",
       "      <td>1.000000</td>\n",
       "      <td>153872.633942</td>\n",
       "    </tr>\n",
       "    <tr>\n",
       "      <th>50%</th>\n",
       "      <td>8394.50000</td>\n",
       "      <td>36.000000</td>\n",
       "      <td>2.000000</td>\n",
       "      <td>52.513310</td>\n",
       "      <td>32.781260</td>\n",
       "      <td>6.000000</td>\n",
       "      <td>7.000000</td>\n",
       "      <td>13.000000</td>\n",
       "      <td>1.977000e+03</td>\n",
       "      <td>0.075424</td>\n",
       "      <td>25.000000</td>\n",
       "      <td>5285.000000</td>\n",
       "      <td>2.000000</td>\n",
       "      <td>900.000000</td>\n",
       "      <td>1.000000</td>\n",
       "      <td>3.000000</td>\n",
       "      <td>192269.644879</td>\n",
       "    </tr>\n",
       "    <tr>\n",
       "      <th>75%</th>\n",
       "      <td>12592.50000</td>\n",
       "      <td>75.000000</td>\n",
       "      <td>2.000000</td>\n",
       "      <td>65.900625</td>\n",
       "      <td>45.128803</td>\n",
       "      <td>9.000000</td>\n",
       "      <td>12.000000</td>\n",
       "      <td>17.000000</td>\n",
       "      <td>2.001000e+03</td>\n",
       "      <td>0.195781</td>\n",
       "      <td>36.000000</td>\n",
       "      <td>7227.000000</td>\n",
       "      <td>5.000000</td>\n",
       "      <td>1548.000000</td>\n",
       "      <td>2.000000</td>\n",
       "      <td>6.000000</td>\n",
       "      <td>249135.462171</td>\n",
       "    </tr>\n",
       "    <tr>\n",
       "      <th>max</th>\n",
       "      <td>16798.00000</td>\n",
       "      <td>209.000000</td>\n",
       "      <td>19.000000</td>\n",
       "      <td>641.065193</td>\n",
       "      <td>7480.592129</td>\n",
       "      <td>2014.000000</td>\n",
       "      <td>42.000000</td>\n",
       "      <td>117.000000</td>\n",
       "      <td>2.005201e+07</td>\n",
       "      <td>0.521867</td>\n",
       "      <td>74.000000</td>\n",
       "      <td>19083.000000</td>\n",
       "      <td>141.000000</td>\n",
       "      <td>4849.000000</td>\n",
       "      <td>6.000000</td>\n",
       "      <td>23.000000</td>\n",
       "      <td>633233.466570</td>\n",
       "    </tr>\n",
       "  </tbody>\n",
       "</table>\n",
       "</div>"
      ],
      "text/plain": [
       "                Id    DistrictId         Rooms        Square   LifeSquare  \\\n",
       "count  10000.00000  10000.000000  10000.000000  10000.000000  7887.000000   \n",
       "mean    8383.40770     50.400800      1.890500     56.315775    37.199645   \n",
       "std     4859.01902     43.587592      0.839512     21.058732    86.241209   \n",
       "min        0.00000      0.000000      0.000000      1.136859     0.370619   \n",
       "25%     4169.50000     20.000000      1.000000     41.774881    22.769832   \n",
       "50%     8394.50000     36.000000      2.000000     52.513310    32.781260   \n",
       "75%    12592.50000     75.000000      2.000000     65.900625    45.128803   \n",
       "max    16798.00000    209.000000     19.000000    641.065193  7480.592129   \n",
       "\n",
       "       KitchenSquare         Floor    HouseFloor     HouseYear     Ecology_1  \\\n",
       "count   10000.000000  10000.000000  10000.000000  1.000000e+04  10000.000000   \n",
       "mean        6.273300      8.526700     12.609400  3.990166e+03      0.118858   \n",
       "std        28.560917      5.241148      6.775974  2.005003e+05      0.119025   \n",
       "min         0.000000      1.000000      0.000000  1.910000e+03      0.000000   \n",
       "25%         1.000000      4.000000      9.000000  1.974000e+03      0.017647   \n",
       "50%         6.000000      7.000000     13.000000  1.977000e+03      0.075424   \n",
       "75%         9.000000     12.000000     17.000000  2.001000e+03      0.195781   \n",
       "max      2014.000000     42.000000    117.000000  2.005201e+07      0.521867   \n",
       "\n",
       "           Social_1      Social_2      Social_3  Healthcare_1   Helthcare_2  \\\n",
       "count  10000.000000  10000.000000  10000.000000   5202.000000  10000.000000   \n",
       "mean      24.687000   5352.157400      8.039200   1142.904460      1.319500   \n",
       "std       17.532614   4006.799803     23.831875   1021.517264      1.493601   \n",
       "min        0.000000    168.000000      0.000000      0.000000      0.000000   \n",
       "25%        6.000000   1564.000000      0.000000    350.000000      0.000000   \n",
       "50%       25.000000   5285.000000      2.000000    900.000000      1.000000   \n",
       "75%       36.000000   7227.000000      5.000000   1548.000000      2.000000   \n",
       "max       74.000000  19083.000000    141.000000   4849.000000      6.000000   \n",
       "\n",
       "            Shops_1          Price  \n",
       "count  10000.000000   10000.000000  \n",
       "mean       4.231300  214138.857399  \n",
       "std        4.806341   92872.293865  \n",
       "min        0.000000   59174.778028  \n",
       "25%        1.000000  153872.633942  \n",
       "50%        3.000000  192269.644879  \n",
       "75%        6.000000  249135.462171  \n",
       "max       23.000000  633233.466570  "
      ]
     },
     "execution_count": 9,
     "metadata": {},
     "output_type": "execute_result"
    }
   ],
   "source": [
    "df.describe()"
   ]
  },
  {
   "cell_type": "markdown",
   "metadata": {},
   "source": [
    "Выведу максимальное значение HouseYear (год постройки) отдельно:"
   ]
  },
  {
   "cell_type": "code",
   "execution_count": 10,
   "metadata": {},
   "outputs": [
    {
     "data": {
      "text/plain": [
       "20052011"
      ]
     },
     "execution_count": 10,
     "metadata": {},
     "output_type": "execute_result"
    }
   ],
   "source": [
    "df['HouseYear'].max()"
   ]
  },
  {
   "cell_type": "markdown",
   "metadata": {},
   "source": [
    "Соревнования 2019 года, удалю все записи, у которых HouseYear больше 2019:"
   ]
  },
  {
   "cell_type": "code",
   "execution_count": 11,
   "metadata": {},
   "outputs": [
    {
     "data": {
      "text/plain": [
       "(9979, 20)"
      ]
     },
     "execution_count": 11,
     "metadata": {},
     "output_type": "execute_result"
    }
   ],
   "source": [
    "df.drop(df[(df['HouseYear']>2019)].index,inplace=True)\n",
    "df.shape"
   ]
  },
  {
   "cell_type": "markdown",
   "metadata": {},
   "source": [
    "Посмотрю категориальные признаки df:"
   ]
  },
  {
   "cell_type": "code",
   "execution_count": 12,
   "metadata": {},
   "outputs": [
    {
     "data": {
      "text/html": [
       "<div>\n",
       "<style scoped>\n",
       "    .dataframe tbody tr th:only-of-type {\n",
       "        vertical-align: middle;\n",
       "    }\n",
       "\n",
       "    .dataframe tbody tr th {\n",
       "        vertical-align: top;\n",
       "    }\n",
       "\n",
       "    .dataframe thead th {\n",
       "        text-align: right;\n",
       "    }\n",
       "</style>\n",
       "<table border=\"1\" class=\"dataframe\">\n",
       "  <thead>\n",
       "    <tr style=\"text-align: right;\">\n",
       "      <th></th>\n",
       "      <th>Ecology_2</th>\n",
       "      <th>Ecology_3</th>\n",
       "      <th>Shops_2</th>\n",
       "    </tr>\n",
       "  </thead>\n",
       "  <tbody>\n",
       "    <tr>\n",
       "      <th>count</th>\n",
       "      <td>9979</td>\n",
       "      <td>9979</td>\n",
       "      <td>9979</td>\n",
       "    </tr>\n",
       "    <tr>\n",
       "      <th>unique</th>\n",
       "      <td>2</td>\n",
       "      <td>2</td>\n",
       "      <td>2</td>\n",
       "    </tr>\n",
       "    <tr>\n",
       "      <th>top</th>\n",
       "      <td>B</td>\n",
       "      <td>B</td>\n",
       "      <td>B</td>\n",
       "    </tr>\n",
       "    <tr>\n",
       "      <th>freq</th>\n",
       "      <td>9882</td>\n",
       "      <td>9704</td>\n",
       "      <td>9158</td>\n",
       "    </tr>\n",
       "  </tbody>\n",
       "</table>\n",
       "</div>"
      ],
      "text/plain": [
       "       Ecology_2 Ecology_3 Shops_2\n",
       "count       9979      9979    9979\n",
       "unique         2         2       2\n",
       "top            B         B       B\n",
       "freq        9882      9704    9158"
      ]
     },
     "execution_count": 12,
     "metadata": {},
     "output_type": "execute_result"
    }
   ],
   "source": [
    "df.describe(include='object')"
   ]
  },
  {
   "cell_type": "markdown",
   "metadata": {},
   "source": [
    "В датасэте три категориальных признака: Ecology_2, Ecology_3, Shops_2"
   ]
  },
  {
   "cell_type": "code",
   "execution_count": 13,
   "metadata": {},
   "outputs": [
    {
     "data": {
      "text/plain": [
       "B    9882\n",
       "A      97\n",
       "Name: Ecology_2, dtype: int64"
      ]
     },
     "execution_count": 13,
     "metadata": {},
     "output_type": "execute_result"
    }
   ],
   "source": [
    "df['Ecology_2'].value_counts()"
   ]
  },
  {
   "cell_type": "code",
   "execution_count": 14,
   "metadata": {},
   "outputs": [
    {
     "data": {
      "text/plain": [
       "B    9704\n",
       "A     275\n",
       "Name: Ecology_3, dtype: int64"
      ]
     },
     "execution_count": 14,
     "metadata": {},
     "output_type": "execute_result"
    }
   ],
   "source": [
    "df['Ecology_3'].value_counts()"
   ]
  },
  {
   "cell_type": "code",
   "execution_count": 15,
   "metadata": {},
   "outputs": [
    {
     "data": {
      "text/plain": [
       "B    9158\n",
       "A     821\n",
       "Name: Shops_2, dtype: int64"
      ]
     },
     "execution_count": 15,
     "metadata": {},
     "output_type": "execute_result"
    }
   ],
   "source": [
    "df['Shops_2'].value_counts()"
   ]
  },
  {
   "cell_type": "markdown",
   "metadata": {},
   "source": [
    "Заменю значения этих признаков на бинарные:"
   ]
  },
  {
   "cell_type": "code",
   "execution_count": 16,
   "metadata": {},
   "outputs": [
    {
     "data": {
      "text/plain": [
       "1    9882\n",
       "0      97\n",
       "Name: Ecology_2, dtype: int64"
      ]
     },
     "execution_count": 16,
     "metadata": {},
     "output_type": "execute_result"
    }
   ],
   "source": [
    "to_binary('Ecology_2',df)"
   ]
  },
  {
   "cell_type": "code",
   "execution_count": 17,
   "metadata": {},
   "outputs": [
    {
     "data": {
      "text/plain": [
       "1    9704\n",
       "0     275\n",
       "Name: Ecology_3, dtype: int64"
      ]
     },
     "execution_count": 17,
     "metadata": {},
     "output_type": "execute_result"
    }
   ],
   "source": [
    "to_binary('Ecology_3',df)"
   ]
  },
  {
   "cell_type": "code",
   "execution_count": 18,
   "metadata": {},
   "outputs": [
    {
     "data": {
      "text/plain": [
       "1    9158\n",
       "0     821\n",
       "Name: Shops_2, dtype: int64"
      ]
     },
     "execution_count": 18,
     "metadata": {},
     "output_type": "execute_result"
    }
   ],
   "source": [
    "to_binary('Shops_2',df)"
   ]
  },
  {
   "cell_type": "markdown",
   "metadata": {},
   "source": [
    "### Визуальный анализ целевой переменной"
   ]
  },
  {
   "cell_type": "code",
   "execution_count": 19,
   "metadata": {},
   "outputs": [
    {
     "data": {
      "text/plain": [
       "Text(0.5, 1.0, 'Распределение целевой переменной Price')"
      ]
     },
     "execution_count": 19,
     "metadata": {},
     "output_type": "execute_result"
    },
    {
     "data": {
      "image/png": "[encoded data removed]",
      "text/plain": [
       "<Figure size 1008x432 with 1 Axes>"
      ]
     },
     "metadata": {},
     "output_type": "display_data"
    }
   ],
   "source": [
    "plt.figure(figsize = (14, 6))\n",
    "sns.distplot(df['Price'])\n",
    "plt.title('Распределение целевой переменной Price')"
   ]
  },
  {
   "cell_type": "markdown",
   "metadata": {},
   "source": [
    "Распределение похоже на нормальное. Аномалий нет."
   ]
  },
  {
   "cell_type": "markdown",
   "metadata": {},
   "source": [
    "### Обработка пропусков"
   ]
  },
  {
   "cell_type": "code",
   "execution_count": 20,
   "metadata": {},
   "outputs": [
    {
     "data": {
      "text/plain": [
       "Id                  0\n",
       "DistrictId          0\n",
       "Rooms               0\n",
       "Square              0\n",
       "LifeSquare       2113\n",
       "KitchenSquare       0\n",
       "Floor               0\n",
       "HouseFloor          0\n",
       "HouseYear           0\n",
       "Ecology_1           0\n",
       "Ecology_2           0\n",
       "Ecology_3           0\n",
       "Social_1            0\n",
       "Social_2            0\n",
       "Social_3            0\n",
       "Healthcare_1     4790\n",
       "Helthcare_2         0\n",
       "Shops_1             0\n",
       "Shops_2             0\n",
       "Price               0\n",
       "dtype: int64"
      ]
     },
     "execution_count": 20,
     "metadata": {},
     "output_type": "execute_result"
    }
   ],
   "source": [
    "df.isna().sum() #или len(df)-df.count()"
   ]
  },
  {
   "cell_type": "code",
   "execution_count": 21,
   "metadata": {},
   "outputs": [
    {
     "data": {
      "text/plain": [
       "Id                0.0\n",
       "DistrictId        0.0\n",
       "Rooms             0.0\n",
       "Square            0.0\n",
       "LifeSquare       21.2\n",
       "KitchenSquare     0.0\n",
       "Floor             0.0\n",
       "HouseFloor        0.0\n",
       "HouseYear         0.0\n",
       "Ecology_1         0.0\n",
       "Ecology_2         0.0\n",
       "Ecology_3         0.0\n",
       "Social_1          0.0\n",
       "Social_2          0.0\n",
       "Social_3          0.0\n",
       "Healthcare_1     48.0\n",
       "Helthcare_2       0.0\n",
       "Shops_1           0.0\n",
       "Shops_2           0.0\n",
       "Price             0.0\n",
       "dtype: float64"
      ]
     },
     "execution_count": 21,
     "metadata": {},
     "output_type": "execute_result"
    }
   ],
   "source": [
    "round(df.isna().sum()*100/df.shape[0],1)"
   ]
  },
  {
   "cell_type": "markdown",
   "metadata": {},
   "source": [
    "### Healthcare_1\n",
    "Пропущено около половины значений.<span style=\"color:red\"> Удалю этот признак из датасэта</span>:"
   ]
  },
  {
   "cell_type": "code",
   "execution_count": 22,
   "metadata": {},
   "outputs": [
    {
     "name": "stdout",
     "output_type": "stream",
     "text": [
      "<class 'pandas.core.frame.DataFrame'>\n",
      "Int64Index: 9979 entries, 0 to 9999\n",
      "Data columns (total 19 columns):\n",
      " #   Column         Non-Null Count  Dtype  \n",
      "---  ------         --------------  -----  \n",
      " 0   Id             9979 non-null   int64  \n",
      " 1   DistrictId     9979 non-null   int64  \n",
      " 2   Rooms          9979 non-null   float64\n",
      " 3   Square         9979 non-null   float64\n",
      " 4   LifeSquare     7866 non-null   float64\n",
      " 5   KitchenSquare  9979 non-null   float64\n",
      " 6   Floor          9979 non-null   int64  \n",
      " 7   HouseFloor     9979 non-null   float64\n",
      " 8   HouseYear      9979 non-null   int64  \n",
      " 9   Ecology_1      9979 non-null   float64\n",
      " 10  Ecology_2      9979 non-null   int32  \n",
      " 11  Ecology_3      9979 non-null   int32  \n",
      " 12  Social_1       9979 non-null   int64  \n",
      " 13  Social_2       9979 non-null   int64  \n",
      " 14  Social_3       9979 non-null   int64  \n",
      " 15  Helthcare_2    9979 non-null   int64  \n",
      " 16  Shops_1        9979 non-null   int64  \n",
      " 17  Shops_2        9979 non-null   int32  \n",
      " 18  Price          9979 non-null   float64\n",
      "dtypes: float64(7), int32(3), int64(9)\n",
      "memory usage: 1.4 MB\n"
     ]
    }
   ],
   "source": [
    "del df['Healthcare_1']\n",
    "df.info()"
   ]
  },
  {
   "cell_type": "code",
   "execution_count": 23,
   "metadata": {},
   "outputs": [
    {
     "data": {
      "text/plain": [
       "Id                  0\n",
       "DistrictId          0\n",
       "Rooms               0\n",
       "Square              0\n",
       "LifeSquare       2113\n",
       "KitchenSquare       0\n",
       "Floor               0\n",
       "HouseFloor          0\n",
       "HouseYear           0\n",
       "Ecology_1           0\n",
       "Ecology_2           0\n",
       "Ecology_3           0\n",
       "Social_1            0\n",
       "Social_2            0\n",
       "Social_3            0\n",
       "Helthcare_2         0\n",
       "Shops_1             0\n",
       "Shops_2             0\n",
       "Price               0\n",
       "dtype: int64"
      ]
     },
     "execution_count": 23,
     "metadata": {},
     "output_type": "execute_result"
    }
   ],
   "source": [
    "df.isna().sum()"
   ]
  },
  {
   "cell_type": "markdown",
   "metadata": {},
   "source": [
    "### LifeSquare\n",
    "Пропущена пятая часть значений. Проверю, есть ли корреляция с признаком Square:"
   ]
  },
  {
   "cell_type": "code",
   "execution_count": 24,
   "metadata": {},
   "outputs": [
    {
     "data": {
      "image/png": "[encoded data removed]",
      "text/plain": [
       "<Figure size 432x288 with 1 Axes>"
      ]
     },
     "metadata": {},
     "output_type": "display_data"
    }
   ],
   "source": [
    "scatter('Square','LifeSquare',df)\n",
    "#plt.xlabel('Square')\n",
    "#plt.ylabel('LifeSquare')\n",
    "#plt.show()"
   ]
  },
  {
   "cell_type": "markdown",
   "metadata": {},
   "source": [
    "Удалю очевидные выбросы, чтобы количество записей сократилось незначительно, и ещё раз проверю наличие корреляции графически:"
   ]
  },
  {
   "cell_type": "code",
   "execution_count": 25,
   "metadata": {},
   "outputs": [
    {
     "data": {
      "image/png": "[encoded data removed]",
      "text/plain": [
       "<Figure size 432x288 with 1 Axes>"
      ]
     },
     "metadata": {},
     "output_type": "display_data"
    }
   ],
   "source": [
    "df.drop(df[(df['LifeSquare']>800)].index,inplace=True)\n",
    "\n",
    "scatter('Square','LifeSquare',df)"
   ]
  },
  {
   "cell_type": "markdown",
   "metadata": {},
   "source": [
    "Значения признаков Square и LifeSquare коррелируют.<br>\n",
    "Доля средней жилой площади от средней общей площади:"
   ]
  },
  {
   "cell_type": "code",
   "execution_count": 26,
   "metadata": {},
   "outputs": [
    {
     "data": {
      "text/plain": [
       "Square        55.221408\n",
       "LifeSquare    36.234754\n",
       "dtype: float64"
      ]
     },
     "execution_count": 26,
     "metadata": {},
     "output_type": "execute_result"
    }
   ],
   "source": [
    "df[['Square','LifeSquare']].dropna().mean()"
   ]
  },
  {
   "cell_type": "code",
   "execution_count": 27,
   "metadata": {},
   "outputs": [
    {
     "data": {
      "text/plain": [
       "0.66"
      ]
     },
     "execution_count": 27,
     "metadata": {},
     "output_type": "execute_result"
    }
   ],
   "source": [
    "coef=round(df[['Square','LifeSquare']].dropna().mean()[1]/df[['Square','LifeSquare']].dropna().mean()[0],2)\n",
    "coef"
   ]
  },
  {
   "cell_type": "markdown",
   "metadata": {},
   "source": [
    "Заполню пропуски в признаке LifeSquare произведениями значений Square на коэффициент, вычисленный выше:"
   ]
  },
  {
   "cell_type": "code",
   "execution_count": 28,
   "metadata": {},
   "outputs": [
    {
     "name": "stdout",
     "output_type": "stream",
     "text": [
      "<class 'pandas.core.frame.DataFrame'>\n",
      "Int64Index: 9978 entries, 0 to 9999\n",
      "Data columns (total 19 columns):\n",
      " #   Column         Non-Null Count  Dtype  \n",
      "---  ------         --------------  -----  \n",
      " 0   Id             9978 non-null   int64  \n",
      " 1   DistrictId     9978 non-null   int64  \n",
      " 2   Rooms          9978 non-null   float64\n",
      " 3   Square         9978 non-null   float64\n",
      " 4   LifeSquare     9978 non-null   float64\n",
      " 5   KitchenSquare  9978 non-null   float64\n",
      " 6   Floor          9978 non-null   int64  \n",
      " 7   HouseFloor     9978 non-null   float64\n",
      " 8   HouseYear      9978 non-null   int64  \n",
      " 9   Ecology_1      9978 non-null   float64\n",
      " 10  Ecology_2      9978 non-null   int32  \n",
      " 11  Ecology_3      9978 non-null   int32  \n",
      " 12  Social_1       9978 non-null   int64  \n",
      " 13  Social_2       9978 non-null   int64  \n",
      " 14  Social_3       9978 non-null   int64  \n",
      " 15  Helthcare_2    9978 non-null   int64  \n",
      " 16  Shops_1        9978 non-null   int64  \n",
      " 17  Shops_2        9978 non-null   int32  \n",
      " 18  Price          9978 non-null   float64\n",
      "dtypes: float64(7), int32(3), int64(9)\n",
      "memory usage: 1.7 MB\n"
     ]
    }
   ],
   "source": [
    "df.loc[df['LifeSquare'].isnull(),'LifeSquare']=df['Square']*coef\n",
    "df.info()"
   ]
  },
  {
   "cell_type": "markdown",
   "metadata": {},
   "source": [
    "### Обработка выбросов"
   ]
  },
  {
   "cell_type": "code",
   "execution_count": 29,
   "metadata": {},
   "outputs": [
    {
     "data": {
      "text/html": [
       "<div>\n",
       "<style scoped>\n",
       "    .dataframe tbody tr th:only-of-type {\n",
       "        vertical-align: middle;\n",
       "    }\n",
       "\n",
       "    .dataframe tbody tr th {\n",
       "        vertical-align: top;\n",
       "    }\n",
       "\n",
       "    .dataframe thead th {\n",
       "        text-align: right;\n",
       "    }\n",
       "</style>\n",
       "<table border=\"1\" class=\"dataframe\">\n",
       "  <thead>\n",
       "    <tr style=\"text-align: right;\">\n",
       "      <th></th>\n",
       "      <th>Id</th>\n",
       "      <th>DistrictId</th>\n",
       "      <th>Rooms</th>\n",
       "      <th>Square</th>\n",
       "      <th>LifeSquare</th>\n",
       "      <th>KitchenSquare</th>\n",
       "      <th>Floor</th>\n",
       "      <th>HouseFloor</th>\n",
       "      <th>HouseYear</th>\n",
       "      <th>Ecology_1</th>\n",
       "      <th>Ecology_2</th>\n",
       "      <th>Ecology_3</th>\n",
       "      <th>Social_1</th>\n",
       "      <th>Social_2</th>\n",
       "      <th>Social_3</th>\n",
       "      <th>Helthcare_2</th>\n",
       "      <th>Shops_1</th>\n",
       "      <th>Shops_2</th>\n",
       "      <th>Price</th>\n",
       "    </tr>\n",
       "  </thead>\n",
       "  <tbody>\n",
       "    <tr>\n",
       "      <th>count</th>\n",
       "      <td>9978.000000</td>\n",
       "      <td>9978.000000</td>\n",
       "      <td>9978.000000</td>\n",
       "      <td>9978.000000</td>\n",
       "      <td>9978.000000</td>\n",
       "      <td>9978.000000</td>\n",
       "      <td>9978.000000</td>\n",
       "      <td>9978.000000</td>\n",
       "      <td>9978.000000</td>\n",
       "      <td>9978.000000</td>\n",
       "      <td>9978.000000</td>\n",
       "      <td>9978.000000</td>\n",
       "      <td>9978.000000</td>\n",
       "      <td>9978.000000</td>\n",
       "      <td>9978.000000</td>\n",
       "      <td>9978.000000</td>\n",
       "      <td>9978.000000</td>\n",
       "      <td>9978.000000</td>\n",
       "      <td>9978.000000</td>\n",
       "    </tr>\n",
       "    <tr>\n",
       "      <th>mean</th>\n",
       "      <td>8382.023351</td>\n",
       "      <td>50.367007</td>\n",
       "      <td>1.890659</td>\n",
       "      <td>56.308029</td>\n",
       "      <td>36.996686</td>\n",
       "      <td>6.270295</td>\n",
       "      <td>8.528863</td>\n",
       "      <td>12.600822</td>\n",
       "      <td>1984.795350</td>\n",
       "      <td>0.118921</td>\n",
       "      <td>0.990279</td>\n",
       "      <td>0.972439</td>\n",
       "      <td>24.696332</td>\n",
       "      <td>5353.916015</td>\n",
       "      <td>8.046703</td>\n",
       "      <td>1.319603</td>\n",
       "      <td>4.234215</td>\n",
       "      <td>0.917719</td>\n",
       "      <td>214082.733246</td>\n",
       "    </tr>\n",
       "    <tr>\n",
       "      <th>std</th>\n",
       "      <td>4860.356229</td>\n",
       "      <td>43.593478</td>\n",
       "      <td>0.839638</td>\n",
       "      <td>21.066545</td>\n",
       "      <td>19.343028</td>\n",
       "      <td>28.591544</td>\n",
       "      <td>5.242808</td>\n",
       "      <td>6.770461</td>\n",
       "      <td>18.363262</td>\n",
       "      <td>0.119075</td>\n",
       "      <td>0.098122</td>\n",
       "      <td>0.163718</td>\n",
       "      <td>17.537731</td>\n",
       "      <td>4008.278521</td>\n",
       "      <td>23.852614</td>\n",
       "      <td>1.493556</td>\n",
       "      <td>4.809508</td>\n",
       "      <td>0.274806</td>\n",
       "      <td>92848.814305</td>\n",
       "    </tr>\n",
       "    <tr>\n",
       "      <th>min</th>\n",
       "      <td>0.000000</td>\n",
       "      <td>0.000000</td>\n",
       "      <td>0.000000</td>\n",
       "      <td>1.136859</td>\n",
       "      <td>0.370619</td>\n",
       "      <td>0.000000</td>\n",
       "      <td>1.000000</td>\n",
       "      <td>0.000000</td>\n",
       "      <td>1910.000000</td>\n",
       "      <td>0.000000</td>\n",
       "      <td>0.000000</td>\n",
       "      <td>0.000000</td>\n",
       "      <td>0.000000</td>\n",
       "      <td>168.000000</td>\n",
       "      <td>0.000000</td>\n",
       "      <td>0.000000</td>\n",
       "      <td>0.000000</td>\n",
       "      <td>0.000000</td>\n",
       "      <td>59174.778028</td>\n",
       "    </tr>\n",
       "    <tr>\n",
       "      <th>25%</th>\n",
       "      <td>4167.250000</td>\n",
       "      <td>20.000000</td>\n",
       "      <td>1.000000</td>\n",
       "      <td>41.769384</td>\n",
       "      <td>24.752124</td>\n",
       "      <td>1.000000</td>\n",
       "      <td>4.000000</td>\n",
       "      <td>9.000000</td>\n",
       "      <td>1974.000000</td>\n",
       "      <td>0.017647</td>\n",
       "      <td>1.000000</td>\n",
       "      <td>1.000000</td>\n",
       "      <td>6.000000</td>\n",
       "      <td>1564.000000</td>\n",
       "      <td>0.000000</td>\n",
       "      <td>0.000000</td>\n",
       "      <td>1.000000</td>\n",
       "      <td>1.000000</td>\n",
       "      <td>153848.548426</td>\n",
       "    </tr>\n",
       "    <tr>\n",
       "      <th>50%</th>\n",
       "      <td>8392.500000</td>\n",
       "      <td>35.000000</td>\n",
       "      <td>2.000000</td>\n",
       "      <td>52.502558</td>\n",
       "      <td>33.561111</td>\n",
       "      <td>6.000000</td>\n",
       "      <td>7.000000</td>\n",
       "      <td>13.000000</td>\n",
       "      <td>1977.000000</td>\n",
       "      <td>0.075424</td>\n",
       "      <td>1.000000</td>\n",
       "      <td>1.000000</td>\n",
       "      <td>25.000000</td>\n",
       "      <td>5285.000000</td>\n",
       "      <td>2.000000</td>\n",
       "      <td>1.000000</td>\n",
       "      <td>3.000000</td>\n",
       "      <td>1.000000</td>\n",
       "      <td>192180.997752</td>\n",
       "    </tr>\n",
       "    <tr>\n",
       "      <th>75%</th>\n",
       "      <td>12593.500000</td>\n",
       "      <td>75.000000</td>\n",
       "      <td>2.000000</td>\n",
       "      <td>65.891996</td>\n",
       "      <td>45.151326</td>\n",
       "      <td>9.000000</td>\n",
       "      <td>12.000000</td>\n",
       "      <td>17.000000</td>\n",
       "      <td>2001.000000</td>\n",
       "      <td>0.195781</td>\n",
       "      <td>1.000000</td>\n",
       "      <td>1.000000</td>\n",
       "      <td>36.000000</td>\n",
       "      <td>7227.000000</td>\n",
       "      <td>5.000000</td>\n",
       "      <td>2.000000</td>\n",
       "      <td>6.000000</td>\n",
       "      <td>1.000000</td>\n",
       "      <td>249089.505423</td>\n",
       "    </tr>\n",
       "    <tr>\n",
       "      <th>max</th>\n",
       "      <td>16798.000000</td>\n",
       "      <td>209.000000</td>\n",
       "      <td>19.000000</td>\n",
       "      <td>641.065193</td>\n",
       "      <td>638.163193</td>\n",
       "      <td>2014.000000</td>\n",
       "      <td>42.000000</td>\n",
       "      <td>117.000000</td>\n",
       "      <td>2019.000000</td>\n",
       "      <td>0.521867</td>\n",
       "      <td>1.000000</td>\n",
       "      <td>1.000000</td>\n",
       "      <td>74.000000</td>\n",
       "      <td>19083.000000</td>\n",
       "      <td>141.000000</td>\n",
       "      <td>6.000000</td>\n",
       "      <td>23.000000</td>\n",
       "      <td>1.000000</td>\n",
       "      <td>633233.466570</td>\n",
       "    </tr>\n",
       "  </tbody>\n",
       "</table>\n",
       "</div>"
      ],
      "text/plain": [
       "                 Id   DistrictId        Rooms       Square   LifeSquare  \\\n",
       "count   9978.000000  9978.000000  9978.000000  9978.000000  9978.000000   \n",
       "mean    8382.023351    50.367007     1.890659    56.308029    36.996686   \n",
       "std     4860.356229    43.593478     0.839638    21.066545    19.343028   \n",
       "min        0.000000     0.000000     0.000000     1.136859     0.370619   \n",
       "25%     4167.250000    20.000000     1.000000    41.769384    24.752124   \n",
       "50%     8392.500000    35.000000     2.000000    52.502558    33.561111   \n",
       "75%    12593.500000    75.000000     2.000000    65.891996    45.151326   \n",
       "max    16798.000000   209.000000    19.000000   641.065193   638.163193   \n",
       "\n",
       "       KitchenSquare        Floor   HouseFloor    HouseYear    Ecology_1  \\\n",
       "count    9978.000000  9978.000000  9978.000000  9978.000000  9978.000000   \n",
       "mean        6.270295     8.528863    12.600822  1984.795350     0.118921   \n",
       "std        28.591544     5.242808     6.770461    18.363262     0.119075   \n",
       "min         0.000000     1.000000     0.000000  1910.000000     0.000000   \n",
       "25%         1.000000     4.000000     9.000000  1974.000000     0.017647   \n",
       "50%         6.000000     7.000000    13.000000  1977.000000     0.075424   \n",
       "75%         9.000000    12.000000    17.000000  2001.000000     0.195781   \n",
       "max      2014.000000    42.000000   117.000000  2019.000000     0.521867   \n",
       "\n",
       "         Ecology_2    Ecology_3     Social_1      Social_2     Social_3  \\\n",
       "count  9978.000000  9978.000000  9978.000000   9978.000000  9978.000000   \n",
       "mean      0.990279     0.972439    24.696332   5353.916015     8.046703   \n",
       "std       0.098122     0.163718    17.537731   4008.278521    23.852614   \n",
       "min       0.000000     0.000000     0.000000    168.000000     0.000000   \n",
       "25%       1.000000     1.000000     6.000000   1564.000000     0.000000   \n",
       "50%       1.000000     1.000000    25.000000   5285.000000     2.000000   \n",
       "75%       1.000000     1.000000    36.000000   7227.000000     5.000000   \n",
       "max       1.000000     1.000000    74.000000  19083.000000   141.000000   \n",
       "\n",
       "       Helthcare_2      Shops_1      Shops_2          Price  \n",
       "count  9978.000000  9978.000000  9978.000000    9978.000000  \n",
       "mean      1.319603     4.234215     0.917719  214082.733246  \n",
       "std       1.493556     4.809508     0.274806   92848.814305  \n",
       "min       0.000000     0.000000     0.000000   59174.778028  \n",
       "25%       0.000000     1.000000     1.000000  153848.548426  \n",
       "50%       1.000000     3.000000     1.000000  192180.997752  \n",
       "75%       2.000000     6.000000     1.000000  249089.505423  \n",
       "max       6.000000    23.000000     1.000000  633233.466570  "
      ]
     },
     "execution_count": 29,
     "metadata": {},
     "output_type": "execute_result"
    }
   ],
   "source": [
    "df.describe()"
   ]
  },
  {
   "cell_type": "markdown",
   "metadata": {},
   "source": [
    "Визуализирую выбросы оставшихся и не бинарных признаков:"
   ]
  },
  {
   "cell_type": "code",
   "execution_count": 30,
   "metadata": {},
   "outputs": [
    {
     "data": {
      "image/png": "[encoded data removed]",
      "text/plain": [
       "<Figure size 1152x864 with 10 Axes>"
      ]
     },
     "metadata": {},
     "output_type": "display_data"
    }
   ],
   "source": [
    "fig, axs = plt.subplots(nrows=2, ncols=5, figsize=(16, 12))\n",
    "axs[0,0].boxplot(df['DistrictId'],patch_artist=True)\n",
    "axs[0,0].set_title('DistrictId',fontsize=16)\n",
    "\n",
    "axs[0,1].boxplot(df['Rooms'],patch_artist=True)\n",
    "axs[0,1].set_title('Rooms',fontsize=16)\n",
    "\n",
    "axs[0,2].boxplot(df['KitchenSquare'],patch_artist=True)\n",
    "axs[0,2].set_title('KitchenSquare',fontsize=16)\n",
    "\n",
    "axs[0,3].boxplot(df['Floor'],patch_artist=True)\n",
    "axs[0,3].set_title('Floor',fontsize=16)\n",
    "\n",
    "axs[0,4].boxplot(df['HouseFloor'],patch_artist=True)\n",
    "axs[0,4].set_title('HouseFloor',fontsize=16)\n",
    "\n",
    "axs[1,0].boxplot(df['Ecology_1'],patch_artist=True)\n",
    "axs[1,0].set_title('Ecology_1', fontsize=16)\n",
    "\n",
    "axs[1,1].boxplot(df['Social_2'],patch_artist=True)\n",
    "axs[1,1].set_title('Social_2',fontsize=16)\n",
    "\n",
    "axs[1,2].boxplot(df['Social_3'],patch_artist=True)\n",
    "axs[1,2].set_title('Social_3',fontsize=16)\n",
    "\n",
    "axs[1,3].boxplot(df['Helthcare_2'],patch_artist=True)\n",
    "axs[1,3].set_title('Helthcare_2',fontsize=16)\n",
    "\n",
    "axs[1,4].boxplot(df['Shops_1'],patch_artist=True)\n",
    "axs[1,4].set_title('Shops_1', fontsize=16)\n",
    "\n",
    "fig.subplots_adjust(hspace=0.3,wspace=0.4)\n",
    "plt.show()"
   ]
  },
  {
   "cell_type": "markdown",
   "metadata": {},
   "source": [
    "Удалю записи с большими выбросами в параметре KitchenSquare:"
   ]
  },
  {
   "cell_type": "code",
   "execution_count": 31,
   "metadata": {},
   "outputs": [
    {
     "data": {
      "text/plain": [
       "(9976, 19)"
      ]
     },
     "execution_count": 31,
     "metadata": {},
     "output_type": "execute_result"
    }
   ],
   "source": [
    "df.drop(df[(df['KitchenSquare']>1750)].index,inplace=True)\n",
    "df.shape"
   ]
  },
  {
   "cell_type": "markdown",
   "metadata": {},
   "source": [
    "### Ковариация и корреляция данных\n",
    "Проверю, как признаки влияют друг на друга.<br>Линейный коэффициент корреляции:"
   ]
  },
  {
   "cell_type": "code",
   "execution_count": 32,
   "metadata": {},
   "outputs": [
    {
     "data": {
      "text/html": [
       "<div>\n",
       "<style scoped>\n",
       "    .dataframe tbody tr th:only-of-type {\n",
       "        vertical-align: middle;\n",
       "    }\n",
       "\n",
       "    .dataframe tbody tr th {\n",
       "        vertical-align: top;\n",
       "    }\n",
       "\n",
       "    .dataframe thead th {\n",
       "        text-align: right;\n",
       "    }\n",
       "</style>\n",
       "<table border=\"1\" class=\"dataframe\">\n",
       "  <thead>\n",
       "    <tr style=\"text-align: right;\">\n",
       "      <th></th>\n",
       "      <th>Id</th>\n",
       "      <th>DistrictId</th>\n",
       "      <th>Rooms</th>\n",
       "      <th>Square</th>\n",
       "      <th>LifeSquare</th>\n",
       "      <th>KitchenSquare</th>\n",
       "      <th>Floor</th>\n",
       "      <th>HouseFloor</th>\n",
       "      <th>HouseYear</th>\n",
       "      <th>Ecology_1</th>\n",
       "      <th>Ecology_2</th>\n",
       "      <th>Ecology_3</th>\n",
       "      <th>Social_1</th>\n",
       "      <th>Social_2</th>\n",
       "      <th>Social_3</th>\n",
       "      <th>Helthcare_2</th>\n",
       "      <th>Shops_1</th>\n",
       "      <th>Shops_2</th>\n",
       "      <th>Price</th>\n",
       "    </tr>\n",
       "  </thead>\n",
       "  <tbody>\n",
       "    <tr>\n",
       "      <th>Id</th>\n",
       "      <td>1.000000</td>\n",
       "      <td>0.012966</td>\n",
       "      <td>-0.006211</td>\n",
       "      <td>-0.010232</td>\n",
       "      <td>-0.005465</td>\n",
       "      <td>0.010148</td>\n",
       "      <td>0.001472</td>\n",
       "      <td>-0.007969</td>\n",
       "      <td>0.003049</td>\n",
       "      <td>0.018460</td>\n",
       "      <td>0.003048</td>\n",
       "      <td>-0.005505</td>\n",
       "      <td>-0.000248</td>\n",
       "      <td>-0.001512</td>\n",
       "      <td>-0.009144</td>\n",
       "      <td>0.001540</td>\n",
       "      <td>-0.008431</td>\n",
       "      <td>0.003691</td>\n",
       "      <td>0.010271</td>\n",
       "    </tr>\n",
       "    <tr>\n",
       "      <th>DistrictId</th>\n",
       "      <td>0.012966</td>\n",
       "      <td>1.000000</td>\n",
       "      <td>0.071913</td>\n",
       "      <td>-0.026590</td>\n",
       "      <td>-0.058435</td>\n",
       "      <td>0.185500</td>\n",
       "      <td>-0.119824</td>\n",
       "      <td>-0.149473</td>\n",
       "      <td>-0.202832</td>\n",
       "      <td>0.064556</td>\n",
       "      <td>-0.093587</td>\n",
       "      <td>-0.028078</td>\n",
       "      <td>0.246829</td>\n",
       "      <td>0.167777</td>\n",
       "      <td>0.135966</td>\n",
       "      <td>0.305858</td>\n",
       "      <td>0.173922</td>\n",
       "      <td>-0.020875</td>\n",
       "      <td>0.265040</td>\n",
       "    </tr>\n",
       "    <tr>\n",
       "      <th>Rooms</th>\n",
       "      <td>-0.006211</td>\n",
       "      <td>0.071913</td>\n",
       "      <td>1.000000</td>\n",
       "      <td>0.662622</td>\n",
       "      <td>0.520521</td>\n",
       "      <td>0.109790</td>\n",
       "      <td>-0.001282</td>\n",
       "      <td>-0.030395</td>\n",
       "      <td>-0.038495</td>\n",
       "      <td>-0.032594</td>\n",
       "      <td>-0.001933</td>\n",
       "      <td>-0.005848</td>\n",
       "      <td>0.076054</td>\n",
       "      <td>0.071381</td>\n",
       "      <td>0.012761</td>\n",
       "      <td>0.064196</td>\n",
       "      <td>0.053554</td>\n",
       "      <td>-0.001962</td>\n",
       "      <td>0.550714</td>\n",
       "    </tr>\n",
       "    <tr>\n",
       "      <th>Square</th>\n",
       "      <td>-0.010232</td>\n",
       "      <td>-0.026590</td>\n",
       "      <td>0.662622</td>\n",
       "      <td>1.000000</td>\n",
       "      <td>0.806451</td>\n",
       "      <td>0.106286</td>\n",
       "      <td>0.114358</td>\n",
       "      <td>0.080769</td>\n",
       "      <td>0.179718</td>\n",
       "      <td>-0.064812</td>\n",
       "      <td>0.029930</td>\n",
       "      <td>0.022732</td>\n",
       "      <td>-0.070515</td>\n",
       "      <td>-0.042949</td>\n",
       "      <td>0.035124</td>\n",
       "      <td>-0.022505</td>\n",
       "      <td>0.021438</td>\n",
       "      <td>-0.050248</td>\n",
       "      <td>0.519880</td>\n",
       "    </tr>\n",
       "    <tr>\n",
       "      <th>LifeSquare</th>\n",
       "      <td>-0.005465</td>\n",
       "      <td>-0.058435</td>\n",
       "      <td>0.520521</td>\n",
       "      <td>0.806451</td>\n",
       "      <td>1.000000</td>\n",
       "      <td>0.002221</td>\n",
       "      <td>0.088550</td>\n",
       "      <td>0.048865</td>\n",
       "      <td>0.144560</td>\n",
       "      <td>-0.064180</td>\n",
       "      <td>0.026306</td>\n",
       "      <td>0.032193</td>\n",
       "      <td>-0.126980</td>\n",
       "      <td>-0.101199</td>\n",
       "      <td>0.046426</td>\n",
       "      <td>-0.060213</td>\n",
       "      <td>0.002654</td>\n",
       "      <td>-0.045309</td>\n",
       "      <td>0.354795</td>\n",
       "    </tr>\n",
       "    <tr>\n",
       "      <th>KitchenSquare</th>\n",
       "      <td>0.010148</td>\n",
       "      <td>0.185500</td>\n",
       "      <td>0.109790</td>\n",
       "      <td>0.106286</td>\n",
       "      <td>0.002221</td>\n",
       "      <td>1.000000</td>\n",
       "      <td>-0.010651</td>\n",
       "      <td>0.135494</td>\n",
       "      <td>0.166883</td>\n",
       "      <td>0.020374</td>\n",
       "      <td>-0.006198</td>\n",
       "      <td>-0.056805</td>\n",
       "      <td>0.278439</td>\n",
       "      <td>0.255227</td>\n",
       "      <td>-0.059265</td>\n",
       "      <td>0.154446</td>\n",
       "      <td>0.076698</td>\n",
       "      <td>0.022158</td>\n",
       "      <td>0.248238</td>\n",
       "    </tr>\n",
       "    <tr>\n",
       "      <th>Floor</th>\n",
       "      <td>0.001472</td>\n",
       "      <td>-0.119824</td>\n",
       "      <td>-0.001282</td>\n",
       "      <td>0.114358</td>\n",
       "      <td>0.088550</td>\n",
       "      <td>-0.010651</td>\n",
       "      <td>1.000000</td>\n",
       "      <td>0.419512</td>\n",
       "      <td>0.286503</td>\n",
       "      <td>-0.016325</td>\n",
       "      <td>0.049758</td>\n",
       "      <td>0.025882</td>\n",
       "      <td>-0.045153</td>\n",
       "      <td>-0.016767</td>\n",
       "      <td>-0.002275</td>\n",
       "      <td>-0.065558</td>\n",
       "      <td>0.024295</td>\n",
       "      <td>-0.014323</td>\n",
       "      <td>0.128179</td>\n",
       "    </tr>\n",
       "    <tr>\n",
       "      <th>HouseFloor</th>\n",
       "      <td>-0.007969</td>\n",
       "      <td>-0.149473</td>\n",
       "      <td>-0.030395</td>\n",
       "      <td>0.080769</td>\n",
       "      <td>0.048865</td>\n",
       "      <td>0.135494</td>\n",
       "      <td>0.419512</td>\n",
       "      <td>1.000000</td>\n",
       "      <td>0.393017</td>\n",
       "      <td>-0.003938</td>\n",
       "      <td>0.059388</td>\n",
       "      <td>0.009123</td>\n",
       "      <td>-0.021924</td>\n",
       "      <td>0.006044</td>\n",
       "      <td>-0.007739</td>\n",
       "      <td>-0.068380</td>\n",
       "      <td>0.026577</td>\n",
       "      <td>0.049905</td>\n",
       "      <td>0.086981</td>\n",
       "    </tr>\n",
       "    <tr>\n",
       "      <th>HouseYear</th>\n",
       "      <td>0.003049</td>\n",
       "      <td>-0.202832</td>\n",
       "      <td>-0.038495</td>\n",
       "      <td>0.179718</td>\n",
       "      <td>0.144560</td>\n",
       "      <td>0.166883</td>\n",
       "      <td>0.286503</td>\n",
       "      <td>0.393017</td>\n",
       "      <td>1.000000</td>\n",
       "      <td>-0.065285</td>\n",
       "      <td>0.076717</td>\n",
       "      <td>0.046685</td>\n",
       "      <td>-0.046900</td>\n",
       "      <td>0.014698</td>\n",
       "      <td>-0.048861</td>\n",
       "      <td>-0.115835</td>\n",
       "      <td>-0.000602</td>\n",
       "      <td>-0.057035</td>\n",
       "      <td>0.035915</td>\n",
       "    </tr>\n",
       "    <tr>\n",
       "      <th>Ecology_1</th>\n",
       "      <td>0.018460</td>\n",
       "      <td>0.064556</td>\n",
       "      <td>-0.032594</td>\n",
       "      <td>-0.064812</td>\n",
       "      <td>-0.064180</td>\n",
       "      <td>0.020374</td>\n",
       "      <td>-0.016325</td>\n",
       "      <td>-0.003938</td>\n",
       "      <td>-0.065285</td>\n",
       "      <td>1.000000</td>\n",
       "      <td>-0.110742</td>\n",
       "      <td>-0.223257</td>\n",
       "      <td>0.026177</td>\n",
       "      <td>0.009029</td>\n",
       "      <td>-0.124884</td>\n",
       "      <td>0.030197</td>\n",
       "      <td>-0.077706</td>\n",
       "      <td>0.079581</td>\n",
       "      <td>-0.059620</td>\n",
       "    </tr>\n",
       "    <tr>\n",
       "      <th>Ecology_2</th>\n",
       "      <td>0.003048</td>\n",
       "      <td>-0.093587</td>\n",
       "      <td>-0.001933</td>\n",
       "      <td>0.029930</td>\n",
       "      <td>0.026306</td>\n",
       "      <td>-0.006198</td>\n",
       "      <td>0.049758</td>\n",
       "      <td>0.059388</td>\n",
       "      <td>0.076717</td>\n",
       "      <td>-0.110742</td>\n",
       "      <td>1.000000</td>\n",
       "      <td>-0.016684</td>\n",
       "      <td>-0.066015</td>\n",
       "      <td>-0.012664</td>\n",
       "      <td>0.008551</td>\n",
       "      <td>-0.082821</td>\n",
       "      <td>0.051983</td>\n",
       "      <td>0.022415</td>\n",
       "      <td>0.022376</td>\n",
       "    </tr>\n",
       "    <tr>\n",
       "      <th>Ecology_3</th>\n",
       "      <td>-0.005505</td>\n",
       "      <td>-0.028078</td>\n",
       "      <td>-0.005848</td>\n",
       "      <td>0.022732</td>\n",
       "      <td>0.032193</td>\n",
       "      <td>-0.056805</td>\n",
       "      <td>0.025882</td>\n",
       "      <td>0.009123</td>\n",
       "      <td>0.046685</td>\n",
       "      <td>-0.223257</td>\n",
       "      <td>-0.016684</td>\n",
       "      <td>1.000000</td>\n",
       "      <td>-0.037705</td>\n",
       "      <td>0.007494</td>\n",
       "      <td>0.014662</td>\n",
       "      <td>-0.133372</td>\n",
       "      <td>0.001970</td>\n",
       "      <td>-0.050386</td>\n",
       "      <td>-0.052728</td>\n",
       "    </tr>\n",
       "    <tr>\n",
       "      <th>Social_1</th>\n",
       "      <td>-0.000248</td>\n",
       "      <td>0.246829</td>\n",
       "      <td>0.076054</td>\n",
       "      <td>-0.070515</td>\n",
       "      <td>-0.126980</td>\n",
       "      <td>0.278439</td>\n",
       "      <td>-0.045153</td>\n",
       "      <td>-0.021924</td>\n",
       "      <td>-0.046900</td>\n",
       "      <td>0.026177</td>\n",
       "      <td>-0.066015</td>\n",
       "      <td>-0.037705</td>\n",
       "      <td>1.000000</td>\n",
       "      <td>0.955929</td>\n",
       "      <td>0.023512</td>\n",
       "      <td>0.524689</td>\n",
       "      <td>0.526114</td>\n",
       "      <td>0.143019</td>\n",
       "      <td>0.263051</td>\n",
       "    </tr>\n",
       "    <tr>\n",
       "      <th>Social_2</th>\n",
       "      <td>-0.001512</td>\n",
       "      <td>0.167777</td>\n",
       "      <td>0.071381</td>\n",
       "      <td>-0.042949</td>\n",
       "      <td>-0.101199</td>\n",
       "      <td>0.255227</td>\n",
       "      <td>-0.016767</td>\n",
       "      <td>0.006044</td>\n",
       "      <td>0.014698</td>\n",
       "      <td>0.009029</td>\n",
       "      <td>-0.012664</td>\n",
       "      <td>0.007494</td>\n",
       "      <td>0.955929</td>\n",
       "      <td>1.000000</td>\n",
       "      <td>0.073272</td>\n",
       "      <td>0.473387</td>\n",
       "      <td>0.559131</td>\n",
       "      <td>0.142323</td>\n",
       "      <td>0.238938</td>\n",
       "    </tr>\n",
       "    <tr>\n",
       "      <th>Social_3</th>\n",
       "      <td>-0.009144</td>\n",
       "      <td>0.135966</td>\n",
       "      <td>0.012761</td>\n",
       "      <td>0.035124</td>\n",
       "      <td>0.046426</td>\n",
       "      <td>-0.059265</td>\n",
       "      <td>-0.002275</td>\n",
       "      <td>-0.007739</td>\n",
       "      <td>-0.048861</td>\n",
       "      <td>-0.124884</td>\n",
       "      <td>0.008551</td>\n",
       "      <td>0.014662</td>\n",
       "      <td>0.023512</td>\n",
       "      <td>0.073272</td>\n",
       "      <td>1.000000</td>\n",
       "      <td>0.286483</td>\n",
       "      <td>0.662048</td>\n",
       "      <td>0.082643</td>\n",
       "      <td>0.074337</td>\n",
       "    </tr>\n",
       "    <tr>\n",
       "      <th>Helthcare_2</th>\n",
       "      <td>0.001540</td>\n",
       "      <td>0.305858</td>\n",
       "      <td>0.064196</td>\n",
       "      <td>-0.022505</td>\n",
       "      <td>-0.060213</td>\n",
       "      <td>0.154446</td>\n",
       "      <td>-0.065558</td>\n",
       "      <td>-0.068380</td>\n",
       "      <td>-0.115835</td>\n",
       "      <td>0.030197</td>\n",
       "      <td>-0.082821</td>\n",
       "      <td>-0.133372</td>\n",
       "      <td>0.524689</td>\n",
       "      <td>0.473387</td>\n",
       "      <td>0.286483</td>\n",
       "      <td>1.000000</td>\n",
       "      <td>0.473923</td>\n",
       "      <td>0.122431</td>\n",
       "      <td>0.253004</td>\n",
       "    </tr>\n",
       "    <tr>\n",
       "      <th>Shops_1</th>\n",
       "      <td>-0.008431</td>\n",
       "      <td>0.173922</td>\n",
       "      <td>0.053554</td>\n",
       "      <td>0.021438</td>\n",
       "      <td>0.002654</td>\n",
       "      <td>0.076698</td>\n",
       "      <td>0.024295</td>\n",
       "      <td>0.026577</td>\n",
       "      <td>-0.000602</td>\n",
       "      <td>-0.077706</td>\n",
       "      <td>0.051983</td>\n",
       "      <td>0.001970</td>\n",
       "      <td>0.526114</td>\n",
       "      <td>0.559131</td>\n",
       "      <td>0.662048</td>\n",
       "      <td>0.473923</td>\n",
       "      <td>1.000000</td>\n",
       "      <td>0.138125</td>\n",
       "      <td>0.180434</td>\n",
       "    </tr>\n",
       "    <tr>\n",
       "      <th>Shops_2</th>\n",
       "      <td>0.003691</td>\n",
       "      <td>-0.020875</td>\n",
       "      <td>-0.001962</td>\n",
       "      <td>-0.050248</td>\n",
       "      <td>-0.045309</td>\n",
       "      <td>0.022158</td>\n",
       "      <td>-0.014323</td>\n",
       "      <td>0.049905</td>\n",
       "      <td>-0.057035</td>\n",
       "      <td>0.079581</td>\n",
       "      <td>0.022415</td>\n",
       "      <td>-0.050386</td>\n",
       "      <td>0.143019</td>\n",
       "      <td>0.142323</td>\n",
       "      <td>0.082643</td>\n",
       "      <td>0.122431</td>\n",
       "      <td>0.138125</td>\n",
       "      <td>1.000000</td>\n",
       "      <td>0.069008</td>\n",
       "    </tr>\n",
       "    <tr>\n",
       "      <th>Price</th>\n",
       "      <td>0.010271</td>\n",
       "      <td>0.265040</td>\n",
       "      <td>0.550714</td>\n",
       "      <td>0.519880</td>\n",
       "      <td>0.354795</td>\n",
       "      <td>0.248238</td>\n",
       "      <td>0.128179</td>\n",
       "      <td>0.086981</td>\n",
       "      <td>0.035915</td>\n",
       "      <td>-0.059620</td>\n",
       "      <td>0.022376</td>\n",
       "      <td>-0.052728</td>\n",
       "      <td>0.263051</td>\n",
       "      <td>0.238938</td>\n",
       "      <td>0.074337</td>\n",
       "      <td>0.253004</td>\n",
       "      <td>0.180434</td>\n",
       "      <td>0.069008</td>\n",
       "      <td>1.000000</td>\n",
       "    </tr>\n",
       "  </tbody>\n",
       "</table>\n",
       "</div>"
      ],
      "text/plain": [
       "                     Id  DistrictId     Rooms    Square  LifeSquare  \\\n",
       "Id             1.000000    0.012966 -0.006211 -0.010232   -0.005465   \n",
       "DistrictId     0.012966    1.000000  0.071913 -0.026590   -0.058435   \n",
       "Rooms         -0.006211    0.071913  1.000000  0.662622    0.520521   \n",
       "Square        -0.010232   -0.026590  0.662622  1.000000    0.806451   \n",
       "LifeSquare    -0.005465   -0.058435  0.520521  0.806451    1.000000   \n",
       "KitchenSquare  0.010148    0.185500  0.109790  0.106286    0.002221   \n",
       "Floor          0.001472   -0.119824 -0.001282  0.114358    0.088550   \n",
       "HouseFloor    -0.007969   -0.149473 -0.030395  0.080769    0.048865   \n",
       "HouseYear      0.003049   -0.202832 -0.038495  0.179718    0.144560   \n",
       "Ecology_1      0.018460    0.064556 -0.032594 -0.064812   -0.064180   \n",
       "Ecology_2      0.003048   -0.093587 -0.001933  0.029930    0.026306   \n",
       "Ecology_3     -0.005505   -0.028078 -0.005848  0.022732    0.032193   \n",
       "Social_1      -0.000248    0.246829  0.076054 -0.070515   -0.126980   \n",
       "Social_2      -0.001512    0.167777  0.071381 -0.042949   -0.101199   \n",
       "Social_3      -0.009144    0.135966  0.012761  0.035124    0.046426   \n",
       "Helthcare_2    0.001540    0.305858  0.064196 -0.022505   -0.060213   \n",
       "Shops_1       -0.008431    0.173922  0.053554  0.021438    0.002654   \n",
       "Shops_2        0.003691   -0.020875 -0.001962 -0.050248   -0.045309   \n",
       "Price          0.010271    0.265040  0.550714  0.519880    0.354795   \n",
       "\n",
       "               KitchenSquare     Floor  HouseFloor  HouseYear  Ecology_1  \\\n",
       "Id                  0.010148  0.001472   -0.007969   0.003049   0.018460   \n",
       "DistrictId          0.185500 -0.119824   -0.149473  -0.202832   0.064556   \n",
       "Rooms               0.109790 -0.001282   -0.030395  -0.038495  -0.032594   \n",
       "Square              0.106286  0.114358    0.080769   0.179718  -0.064812   \n",
       "LifeSquare          0.002221  0.088550    0.048865   0.144560  -0.064180   \n",
       "KitchenSquare       1.000000 -0.010651    0.135494   0.166883   0.020374   \n",
       "Floor              -0.010651  1.000000    0.419512   0.286503  -0.016325   \n",
       "HouseFloor          0.135494  0.419512    1.000000   0.393017  -0.003938   \n",
       "HouseYear           0.166883  0.286503    0.393017   1.000000  -0.065285   \n",
       "Ecology_1           0.020374 -0.016325   -0.003938  -0.065285   1.000000   \n",
       "Ecology_2          -0.006198  0.049758    0.059388   0.076717  -0.110742   \n",
       "Ecology_3          -0.056805  0.025882    0.009123   0.046685  -0.223257   \n",
       "Social_1            0.278439 -0.045153   -0.021924  -0.046900   0.026177   \n",
       "Social_2            0.255227 -0.016767    0.006044   0.014698   0.009029   \n",
       "Social_3           -0.059265 -0.002275   -0.007739  -0.048861  -0.124884   \n",
       "Helthcare_2         0.154446 -0.065558   -0.068380  -0.115835   0.030197   \n",
       "Shops_1             0.076698  0.024295    0.026577  -0.000602  -0.077706   \n",
       "Shops_2             0.022158 -0.014323    0.049905  -0.057035   0.079581   \n",
       "Price               0.248238  0.128179    0.086981   0.035915  -0.059620   \n",
       "\n",
       "               Ecology_2  Ecology_3  Social_1  Social_2  Social_3  \\\n",
       "Id              0.003048  -0.005505 -0.000248 -0.001512 -0.009144   \n",
       "DistrictId     -0.093587  -0.028078  0.246829  0.167777  0.135966   \n",
       "Rooms          -0.001933  -0.005848  0.076054  0.071381  0.012761   \n",
       "Square          0.029930   0.022732 -0.070515 -0.042949  0.035124   \n",
       "LifeSquare      0.026306   0.032193 -0.126980 -0.101199  0.046426   \n",
       "KitchenSquare  -0.006198  -0.056805  0.278439  0.255227 -0.059265   \n",
       "Floor           0.049758   0.025882 -0.045153 -0.016767 -0.002275   \n",
       "HouseFloor      0.059388   0.009123 -0.021924  0.006044 -0.007739   \n",
       "HouseYear       0.076717   0.046685 -0.046900  0.014698 -0.048861   \n",
       "Ecology_1      -0.110742  -0.223257  0.026177  0.009029 -0.124884   \n",
       "Ecology_2       1.000000  -0.016684 -0.066015 -0.012664  0.008551   \n",
       "Ecology_3      -0.016684   1.000000 -0.037705  0.007494  0.014662   \n",
       "Social_1       -0.066015  -0.037705  1.000000  0.955929  0.023512   \n",
       "Social_2       -0.012664   0.007494  0.955929  1.000000  0.073272   \n",
       "Social_3        0.008551   0.014662  0.023512  0.073272  1.000000   \n",
       "Helthcare_2    -0.082821  -0.133372  0.524689  0.473387  0.286483   \n",
       "Shops_1         0.051983   0.001970  0.526114  0.559131  0.662048   \n",
       "Shops_2         0.022415  -0.050386  0.143019  0.142323  0.082643   \n",
       "Price           0.022376  -0.052728  0.263051  0.238938  0.074337   \n",
       "\n",
       "               Helthcare_2   Shops_1   Shops_2     Price  \n",
       "Id                0.001540 -0.008431  0.003691  0.010271  \n",
       "DistrictId        0.305858  0.173922 -0.020875  0.265040  \n",
       "Rooms             0.064196  0.053554 -0.001962  0.550714  \n",
       "Square           -0.022505  0.021438 -0.050248  0.519880  \n",
       "LifeSquare       -0.060213  0.002654 -0.045309  0.354795  \n",
       "KitchenSquare     0.154446  0.076698  0.022158  0.248238  \n",
       "Floor            -0.065558  0.024295 -0.014323  0.128179  \n",
       "HouseFloor       -0.068380  0.026577  0.049905  0.086981  \n",
       "HouseYear        -0.115835 -0.000602 -0.057035  0.035915  \n",
       "Ecology_1         0.030197 -0.077706  0.079581 -0.059620  \n",
       "Ecology_2        -0.082821  0.051983  0.022415  0.022376  \n",
       "Ecology_3        -0.133372  0.001970 -0.050386 -0.052728  \n",
       "Social_1          0.524689  0.526114  0.143019  0.263051  \n",
       "Social_2          0.473387  0.559131  0.142323  0.238938  \n",
       "Social_3          0.286483  0.662048  0.082643  0.074337  \n",
       "Helthcare_2       1.000000  0.473923  0.122431  0.253004  \n",
       "Shops_1           0.473923  1.000000  0.138125  0.180434  \n",
       "Shops_2           0.122431  0.138125  1.000000  0.069008  \n",
       "Price             0.253004  0.180434  0.069008  1.000000  "
      ]
     },
     "execution_count": 32,
     "metadata": {},
     "output_type": "execute_result"
    }
   ],
   "source": [
    "df.corr()"
   ]
  },
  {
   "cell_type": "code",
   "execution_count": 33,
   "metadata": {
    "scrolled": true
   },
   "outputs": [
    {
     "data": {
      "text/plain": [
       "Ecology_1       -0.059620\n",
       "Ecology_3       -0.052728\n",
       "Id               0.010271\n",
       "Ecology_2        0.022376\n",
       "HouseYear        0.035915\n",
       "Shops_2          0.069008\n",
       "Social_3         0.074337\n",
       "HouseFloor       0.086981\n",
       "Floor            0.128179\n",
       "Shops_1          0.180434\n",
       "Social_2         0.238938\n",
       "KitchenSquare    0.248238\n",
       "Helthcare_2      0.253004\n",
       "Social_1         0.263051\n",
       "DistrictId       0.265040\n",
       "LifeSquare       0.354795\n",
       "Square           0.519880\n",
       "Rooms            0.550714\n",
       "Price            1.000000\n",
       "Name: Price, dtype: float64"
      ]
     },
     "execution_count": 33,
     "metadata": {},
     "output_type": "execute_result"
    }
   ],
   "source": [
    "df.corr()['Price'].sort_values()"
   ]
  },
  {
   "cell_type": "markdown",
   "metadata": {},
   "source": [
    "Попробую построить признаки с более высокой корреляцией:"
   ]
  },
  {
   "cell_type": "code",
   "execution_count": 34,
   "metadata": {},
   "outputs": [],
   "source": [
    "df['turn_1']=1.55*df['KitchenSquare']+df['Square']\n",
    "df['turn_2'] = (1.1*df['Square']+2.9*df['KitchenSquare'])/2*df['Rooms']+2*df['Floor']+1.2*df['Social_1']+df['Shops_1']\n",
    "df['turn_3'] = 2*df['Square'] + 2*df['Rooms'] + df['Floor']/df['HouseFloor'] +1.3*df['Social_1']+1.3*df['Helthcare_2']"
   ]
  },
  {
   "cell_type": "code",
   "execution_count": 35,
   "metadata": {},
   "outputs": [
    {
     "data": {
      "text/plain": [
       "Ecology_1       -0.059620\n",
       "Ecology_3       -0.052728\n",
       "Id               0.010271\n",
       "Ecology_2        0.022376\n",
       "HouseYear        0.035915\n",
       "Shops_2          0.069008\n",
       "Social_3         0.074337\n",
       "HouseFloor       0.086981\n",
       "Floor            0.128179\n",
       "Shops_1          0.180434\n",
       "Social_2         0.238938\n",
       "KitchenSquare    0.248238\n",
       "Helthcare_2      0.253004\n",
       "Social_1         0.263051\n",
       "DistrictId       0.265040\n",
       "LifeSquare       0.354795\n",
       "Square           0.519880\n",
       "Rooms            0.550714\n",
       "turn_1           0.554907\n",
       "turn_3           0.604325\n",
       "turn_2           0.655692\n",
       "Price            1.000000\n",
       "Name: Price, dtype: float64"
      ]
     },
     "execution_count": 35,
     "metadata": {},
     "output_type": "execute_result"
    }
   ],
   "source": [
    "df.corr()['Price'].sort_values()"
   ]
  },
  {
   "cell_type": "markdown",
   "metadata": {},
   "source": [
    "Не удалось найти признак с корреляцией, близкой к единице. Удалю созданные признаки, чтобы не было проблем с масштабированием данных:"
   ]
  },
  {
   "cell_type": "code",
   "execution_count": 36,
   "metadata": {},
   "outputs": [
    {
     "name": "stdout",
     "output_type": "stream",
     "text": [
      "<class 'pandas.core.frame.DataFrame'>\n",
      "Int64Index: 9976 entries, 0 to 9999\n",
      "Data columns (total 19 columns):\n",
      " #   Column         Non-Null Count  Dtype  \n",
      "---  ------         --------------  -----  \n",
      " 0   Id             9976 non-null   int64  \n",
      " 1   DistrictId     9976 non-null   int64  \n",
      " 2   Rooms          9976 non-null   float64\n",
      " 3   Square         9976 non-null   float64\n",
      " 4   LifeSquare     9976 non-null   float64\n",
      " 5   KitchenSquare  9976 non-null   float64\n",
      " 6   Floor          9976 non-null   int64  \n",
      " 7   HouseFloor     9976 non-null   float64\n",
      " 8   HouseYear      9976 non-null   int64  \n",
      " 9   Ecology_1      9976 non-null   float64\n",
      " 10  Ecology_2      9976 non-null   int32  \n",
      " 11  Ecology_3      9976 non-null   int32  \n",
      " 12  Social_1       9976 non-null   int64  \n",
      " 13  Social_2       9976 non-null   int64  \n",
      " 14  Social_3       9976 non-null   int64  \n",
      " 15  Helthcare_2    9976 non-null   int64  \n",
      " 16  Shops_1        9976 non-null   int64  \n",
      " 17  Shops_2        9976 non-null   int32  \n",
      " 18  Price          9976 non-null   float64\n",
      "dtypes: float64(7), int32(3), int64(9)\n",
      "memory usage: 1.4 MB\n"
     ]
    }
   ],
   "source": [
    "df=df.drop(['turn_1','turn_2','turn_3'],axis=1)\n",
    "df.info()"
   ]
  },
  {
   "cell_type": "markdown",
   "metadata": {},
   "source": [
    "### Тестовый и валидационный наборы данных"
   ]
  },
  {
   "cell_type": "markdown",
   "metadata": {},
   "source": [
    "Создам дэтафрейм с признакми X и серию с ценами y.<br>Проверю корректностьпо количеству записей:"
   ]
  },
  {
   "cell_type": "code",
   "execution_count": 37,
   "metadata": {},
   "outputs": [
    {
     "data": {
      "text/plain": [
       "((9976, 16), (9976, 1))"
      ]
     },
     "execution_count": 37,
     "metadata": {},
     "output_type": "execute_result"
    }
   ],
   "source": [
    "X=df.drop('Price',axis=1).drop('Id',axis=1).drop('DistrictId',axis=1)\n",
    "y=df[['Price']]\n",
    "X.shape,y.shape"
   ]
  },
  {
   "cell_type": "markdown",
   "metadata": {},
   "source": [
    "Разобью эти датафреймы на тренировочные (X_train, y_train) и тестовые (X_test, y_test):"
   ]
  },
  {
   "cell_type": "code",
   "execution_count": 38,
   "metadata": {},
   "outputs": [
    {
     "data": {
      "text/plain": [
       "((7482, 16), (7482, 1), (2494, 16), (2494, 1))"
      ]
     },
     "execution_count": 38,
     "metadata": {},
     "output_type": "execute_result"
    }
   ],
   "source": [
    "X_train,X_test,y_train,y_test=train_test_split(X,y,test_size=0.25,random_state=42)\n",
    "X_train.shape,y_train.shape,X_test.shape,y_test.shape"
   ]
  },
  {
   "cell_type": "markdown",
   "metadata": {},
   "source": [
    "Применю масштабирование:"
   ]
  },
  {
   "cell_type": "code",
   "execution_count": 39,
   "metadata": {},
   "outputs": [],
   "source": [
    "scaler=StandardScaler()\n",
    "X_train_scaled=pd.DataFrame(scaler.fit_transform(X_train),columns=X_train.columns)\n",
    "X_test_scaled=pd.DataFrame(scaler.transform(X_test),columns=X_test.columns)"
   ]
  },
  {
   "cell_type": "markdown",
   "metadata": {},
   "source": [
    "Я уже знаю, что для этого набора данных хорошо работает RandomForestRegressor<br>Проверю:"
   ]
  },
  {
   "cell_type": "code",
   "execution_count": 40,
   "metadata": {},
   "outputs": [],
   "source": [
    "#model=RandomForestRegressor(n_estimators=1000,max_depth=9,max_features=7,random_state=42)\n",
    "#model.fit(X_train_scaled,y_train)\n",
    "#y_train_preds=model.predict(X_train_scaled) \n",
    "#y_test_preds=model.predict(X_test_scaled)\n",
    "    \n",
    "#r2_train=r2_score(y_train,y_train_preds)\n",
    "#mae_train=mae(y_train,y_train_preds)\n",
    "#r2_test=r2_score(y_test,y_test_preds)\n",
    "#mae_test=mae(y_test,y_test_preds)\n",
    "\n",
    "\n",
    "model=RandomForestRegressor(n_estimators=1000,max_depth=9,max_features=7,random_state=42)\n",
    "model.fit(X_train,y_train)\n",
    "y_train_preds=model.predict(X_train) \n",
    "y_test_preds=model.predict(X_test)\n",
    "    \n",
    "r2_train=r2_score(y_train,y_train_preds)\n",
    "mae_train=mae(y_train,y_train_preds)\n",
    "r2_test=r2_score(y_test,y_test_preds)\n",
    "mae_test=mae(y_test,y_test_preds)"
   ]
  },
  {
   "cell_type": "code",
   "execution_count": 41,
   "metadata": {},
   "outputs": [
    {
     "name": "stdout",
     "output_type": "stream",
     "text": [
      "Train:\t\tR2  0.82\tMAE  25936.10714673694\n",
      "Test:\t\tR2  0.72\tMAE  30625.25626542666\n"
     ]
    }
   ],
   "source": [
    "print(f'Train:\\t\\tR2  {round(r2_train,2)}\\tMAE  {mae_train}\\nTest:\\t\\tR2  {round(r2_test,2)}\\tMAE  {mae_test}')"
   ]
  },
  {
   "cell_type": "markdown",
   "metadata": {},
   "source": [
    "**R<sup>2</sup> для тестового набора равен 0.72**"
   ]
  },
  {
   "cell_type": "markdown",
   "metadata": {},
   "source": [
    "Предскажу значения Price для тестовой выборки:"
   ]
  },
  {
   "cell_type": "code",
   "execution_count": 42,
   "metadata": {},
   "outputs": [
    {
     "name": "stdout",
     "output_type": "stream",
     "text": [
      "<class 'pandas.core.frame.DataFrame'>\n",
      "RangeIndex: 5000 entries, 0 to 4999\n",
      "Data columns (total 19 columns):\n",
      " #   Column         Non-Null Count  Dtype  \n",
      "---  ------         --------------  -----  \n",
      " 0   Id             5000 non-null   int64  \n",
      " 1   DistrictId     5000 non-null   int64  \n",
      " 2   Rooms          5000 non-null   float64\n",
      " 3   Square         5000 non-null   float64\n",
      " 4   LifeSquare     3959 non-null   float64\n",
      " 5   KitchenSquare  5000 non-null   float64\n",
      " 6   Floor          5000 non-null   int64  \n",
      " 7   HouseFloor     5000 non-null   float64\n",
      " 8   HouseYear      5000 non-null   int64  \n",
      " 9   Ecology_1      5000 non-null   float64\n",
      " 10  Ecology_2      5000 non-null   object \n",
      " 11  Ecology_3      5000 non-null   object \n",
      " 12  Social_1       5000 non-null   int64  \n",
      " 13  Social_2       5000 non-null   int64  \n",
      " 14  Social_3       5000 non-null   int64  \n",
      " 15  Healthcare_1   2623 non-null   float64\n",
      " 16  Helthcare_2    5000 non-null   int64  \n",
      " 17  Shops_1        5000 non-null   int64  \n",
      " 18  Shops_2        5000 non-null   object \n",
      "dtypes: float64(7), int64(9), object(3)\n",
      "memory usage: 742.3+ KB\n"
     ]
    }
   ],
   "source": [
    "df_test=pd.read_csv('test.csv')\n",
    "df_test.info()"
   ]
  },
  {
   "cell_type": "code",
   "execution_count": 43,
   "metadata": {},
   "outputs": [
    {
     "data": {
      "text/html": [
       "<div>\n",
       "<style scoped>\n",
       "    .dataframe tbody tr th:only-of-type {\n",
       "        vertical-align: middle;\n",
       "    }\n",
       "\n",
       "    .dataframe tbody tr th {\n",
       "        vertical-align: top;\n",
       "    }\n",
       "\n",
       "    .dataframe thead th {\n",
       "        text-align: right;\n",
       "    }\n",
       "</style>\n",
       "<table border=\"1\" class=\"dataframe\">\n",
       "  <thead>\n",
       "    <tr style=\"text-align: right;\">\n",
       "      <th></th>\n",
       "      <th>Id</th>\n",
       "      <th>DistrictId</th>\n",
       "      <th>Rooms</th>\n",
       "      <th>Square</th>\n",
       "      <th>LifeSquare</th>\n",
       "      <th>KitchenSquare</th>\n",
       "      <th>Floor</th>\n",
       "      <th>HouseFloor</th>\n",
       "      <th>HouseYear</th>\n",
       "      <th>Ecology_1</th>\n",
       "      <th>Ecology_2</th>\n",
       "      <th>Ecology_3</th>\n",
       "      <th>Social_1</th>\n",
       "      <th>Social_2</th>\n",
       "      <th>Social_3</th>\n",
       "      <th>Healthcare_1</th>\n",
       "      <th>Helthcare_2</th>\n",
       "      <th>Shops_1</th>\n",
       "      <th>Shops_2</th>\n",
       "    </tr>\n",
       "  </thead>\n",
       "  <tbody>\n",
       "    <tr>\n",
       "      <th>0</th>\n",
       "      <td>725</td>\n",
       "      <td>58</td>\n",
       "      <td>2.0</td>\n",
       "      <td>49.882643</td>\n",
       "      <td>33.432782</td>\n",
       "      <td>6.0</td>\n",
       "      <td>6</td>\n",
       "      <td>14.0</td>\n",
       "      <td>1972</td>\n",
       "      <td>0.310199</td>\n",
       "      <td>B</td>\n",
       "      <td>B</td>\n",
       "      <td>11</td>\n",
       "      <td>2748</td>\n",
       "      <td>1</td>\n",
       "      <td>NaN</td>\n",
       "      <td>0</td>\n",
       "      <td>0</td>\n",
       "      <td>B</td>\n",
       "    </tr>\n",
       "    <tr>\n",
       "      <th>1</th>\n",
       "      <td>15856</td>\n",
       "      <td>74</td>\n",
       "      <td>2.0</td>\n",
       "      <td>69.263183</td>\n",
       "      <td>NaN</td>\n",
       "      <td>1.0</td>\n",
       "      <td>6</td>\n",
       "      <td>1.0</td>\n",
       "      <td>1977</td>\n",
       "      <td>0.075779</td>\n",
       "      <td>B</td>\n",
       "      <td>B</td>\n",
       "      <td>6</td>\n",
       "      <td>1437</td>\n",
       "      <td>3</td>\n",
       "      <td>NaN</td>\n",
       "      <td>0</td>\n",
       "      <td>2</td>\n",
       "      <td>B</td>\n",
       "    </tr>\n",
       "    <tr>\n",
       "      <th>2</th>\n",
       "      <td>5480</td>\n",
       "      <td>190</td>\n",
       "      <td>1.0</td>\n",
       "      <td>13.597819</td>\n",
       "      <td>15.948246</td>\n",
       "      <td>12.0</td>\n",
       "      <td>2</td>\n",
       "      <td>5.0</td>\n",
       "      <td>1909</td>\n",
       "      <td>0.000000</td>\n",
       "      <td>B</td>\n",
       "      <td>B</td>\n",
       "      <td>30</td>\n",
       "      <td>7538</td>\n",
       "      <td>87</td>\n",
       "      <td>4702.0</td>\n",
       "      <td>5</td>\n",
       "      <td>5</td>\n",
       "      <td>B</td>\n",
       "    </tr>\n",
       "    <tr>\n",
       "      <th>3</th>\n",
       "      <td>15664</td>\n",
       "      <td>47</td>\n",
       "      <td>2.0</td>\n",
       "      <td>73.046609</td>\n",
       "      <td>51.940842</td>\n",
       "      <td>9.0</td>\n",
       "      <td>22</td>\n",
       "      <td>22.0</td>\n",
       "      <td>2007</td>\n",
       "      <td>0.101872</td>\n",
       "      <td>B</td>\n",
       "      <td>B</td>\n",
       "      <td>23</td>\n",
       "      <td>4583</td>\n",
       "      <td>3</td>\n",
       "      <td>NaN</td>\n",
       "      <td>3</td>\n",
       "      <td>3</td>\n",
       "      <td>B</td>\n",
       "    </tr>\n",
       "    <tr>\n",
       "      <th>4</th>\n",
       "      <td>14275</td>\n",
       "      <td>27</td>\n",
       "      <td>1.0</td>\n",
       "      <td>47.527111</td>\n",
       "      <td>43.387569</td>\n",
       "      <td>1.0</td>\n",
       "      <td>17</td>\n",
       "      <td>17.0</td>\n",
       "      <td>2017</td>\n",
       "      <td>0.072158</td>\n",
       "      <td>B</td>\n",
       "      <td>B</td>\n",
       "      <td>2</td>\n",
       "      <td>629</td>\n",
       "      <td>1</td>\n",
       "      <td>NaN</td>\n",
       "      <td>0</td>\n",
       "      <td>0</td>\n",
       "      <td>A</td>\n",
       "    </tr>\n",
       "  </tbody>\n",
       "</table>\n",
       "</div>"
      ],
      "text/plain": [
       "      Id  DistrictId  Rooms     Square  LifeSquare  KitchenSquare  Floor  \\\n",
       "0    725          58    2.0  49.882643   33.432782            6.0      6   \n",
       "1  15856          74    2.0  69.263183         NaN            1.0      6   \n",
       "2   5480         190    1.0  13.597819   15.948246           12.0      2   \n",
       "3  15664          47    2.0  73.046609   51.940842            9.0     22   \n",
       "4  14275          27    1.0  47.527111   43.387569            1.0     17   \n",
       "\n",
       "   HouseFloor  HouseYear  Ecology_1 Ecology_2 Ecology_3  Social_1  Social_2  \\\n",
       "0        14.0       1972   0.310199         B         B        11      2748   \n",
       "1         1.0       1977   0.075779         B         B         6      1437   \n",
       "2         5.0       1909   0.000000         B         B        30      7538   \n",
       "3        22.0       2007   0.101872         B         B        23      4583   \n",
       "4        17.0       2017   0.072158         B         B         2       629   \n",
       "\n",
       "   Social_3  Healthcare_1  Helthcare_2  Shops_1 Shops_2  \n",
       "0         1           NaN            0        0       B  \n",
       "1         3           NaN            0        2       B  \n",
       "2        87        4702.0            5        5       B  \n",
       "3         3           NaN            3        3       B  \n",
       "4         1           NaN            0        0       A  "
      ]
     },
     "execution_count": 43,
     "metadata": {},
     "output_type": "execute_result"
    }
   ],
   "source": [
    "df_test.head()"
   ]
  },
  {
   "cell_type": "markdown",
   "metadata": {},
   "source": [
    "Переведу категориальные признаки df_test в бинарные:"
   ]
  },
  {
   "cell_type": "code",
   "execution_count": 44,
   "metadata": {},
   "outputs": [
    {
     "data": {
      "text/plain": [
       "1    4952\n",
       "0      48\n",
       "Name: Ecology_2, dtype: int64"
      ]
     },
     "execution_count": 44,
     "metadata": {},
     "output_type": "execute_result"
    }
   ],
   "source": [
    "to_binary('Ecology_2',df_test)"
   ]
  },
  {
   "cell_type": "code",
   "execution_count": 45,
   "metadata": {},
   "outputs": [
    {
     "data": {
      "text/plain": [
       "1    4851\n",
       "0     149\n",
       "Name: Ecology_3, dtype: int64"
      ]
     },
     "execution_count": 45,
     "metadata": {},
     "output_type": "execute_result"
    }
   ],
   "source": [
    "to_binary('Ecology_3',df_test)"
   ]
  },
  {
   "cell_type": "code",
   "execution_count": 46,
   "metadata": {},
   "outputs": [
    {
     "data": {
      "text/plain": [
       "1    4588\n",
       "0     412\n",
       "Name: Shops_2, dtype: int64"
      ]
     },
     "execution_count": 46,
     "metadata": {},
     "output_type": "execute_result"
    }
   ],
   "source": [
    "to_binary('Shops_2',df_test)"
   ]
  },
  {
   "cell_type": "markdown",
   "metadata": {},
   "source": [
    "Проверю, есть ли пропущенные значения в df_test:"
   ]
  },
  {
   "cell_type": "code",
   "execution_count": 47,
   "metadata": {},
   "outputs": [
    {
     "data": {
      "text/plain": [
       "Id                  0\n",
       "DistrictId          0\n",
       "Rooms               0\n",
       "Square              0\n",
       "LifeSquare       1041\n",
       "KitchenSquare       0\n",
       "Floor               0\n",
       "HouseFloor          0\n",
       "HouseYear           0\n",
       "Ecology_1           0\n",
       "Ecology_2           0\n",
       "Ecology_3           0\n",
       "Social_1            0\n",
       "Social_2            0\n",
       "Social_3            0\n",
       "Healthcare_1     2377\n",
       "Helthcare_2         0\n",
       "Shops_1             0\n",
       "Shops_2             0\n",
       "dtype: int64"
      ]
     },
     "execution_count": 47,
     "metadata": {},
     "output_type": "execute_result"
    }
   ],
   "source": [
    "df_test.isna().sum()"
   ]
  },
  {
   "cell_type": "markdown",
   "metadata": {},
   "source": [
    "Заполню пропущенные значения признака LifeSquare произведениями значений Square на коэффициент, вычисленный для набора train (df):"
   ]
  },
  {
   "cell_type": "code",
   "execution_count": 48,
   "metadata": {},
   "outputs": [
    {
     "name": "stdout",
     "output_type": "stream",
     "text": [
      "<class 'pandas.core.frame.DataFrame'>\n",
      "RangeIndex: 5000 entries, 0 to 4999\n",
      "Data columns (total 19 columns):\n",
      " #   Column         Non-Null Count  Dtype  \n",
      "---  ------         --------------  -----  \n",
      " 0   Id             5000 non-null   int64  \n",
      " 1   DistrictId     5000 non-null   int64  \n",
      " 2   Rooms          5000 non-null   float64\n",
      " 3   Square         5000 non-null   float64\n",
      " 4   LifeSquare     5000 non-null   float64\n",
      " 5   KitchenSquare  5000 non-null   float64\n",
      " 6   Floor          5000 non-null   int64  \n",
      " 7   HouseFloor     5000 non-null   float64\n",
      " 8   HouseYear      5000 non-null   int64  \n",
      " 9   Ecology_1      5000 non-null   float64\n",
      " 10  Ecology_2      5000 non-null   int32  \n",
      " 11  Ecology_3      5000 non-null   int32  \n",
      " 12  Social_1       5000 non-null   int64  \n",
      " 13  Social_2       5000 non-null   int64  \n",
      " 14  Social_3       5000 non-null   int64  \n",
      " 15  Healthcare_1   2623 non-null   float64\n",
      " 16  Helthcare_2    5000 non-null   int64  \n",
      " 17  Shops_1        5000 non-null   int64  \n",
      " 18  Shops_2        5000 non-null   int32  \n",
      "dtypes: float64(7), int32(3), int64(9)\n",
      "memory usage: 683.7 KB\n"
     ]
    }
   ],
   "source": [
    "df_test.loc[df_test['LifeSquare'].isnull(),'LifeSquare']=df_test['Square']*coef\n",
    "df_test.info()"
   ]
  },
  {
   "cell_type": "code",
   "execution_count": 49,
   "metadata": {},
   "outputs": [
    {
     "data": {
      "text/plain": [
       "(5000, 16)"
      ]
     },
     "execution_count": 49,
     "metadata": {},
     "output_type": "execute_result"
    }
   ],
   "source": [
    "X_pred=df_test.drop('Id',axis=1).drop('DistrictId',axis=1).drop('Healthcare_1',axis=1)\n",
    "X_pred.shape"
   ]
  },
  {
   "cell_type": "code",
   "execution_count": 50,
   "metadata": {},
   "outputs": [],
   "source": [
    "X_pred_scaled=pd.DataFrame(scaler.transform(X_pred),columns=X_pred.columns)"
   ]
  },
  {
   "cell_type": "code",
   "execution_count": 51,
   "metadata": {},
   "outputs": [],
   "source": [
    "#price=model.predict(X_pred_scaled)\n",
    "price=model.predict(X_pred)\n",
    "pd.DataFrame({'Id':df_test['Id'],'Price':price}).to_csv('Aleksandriiskaia_predictions.csv',index=False)"
   ]
  }
 ],
 "metadata": {
  "kernelspec": {
   "display_name": "Python 3",
   "language": "python",
   "name": "python3"
  },
  "language_info": {
   "codemirror_mode": {
    "name": "ipython",
    "version": 3
   },
   "file_extension": ".py",
   "mimetype": "text/x-python",
   "name": "python",
   "nbconvert_exporter": "python",
   "pygments_lexer": "ipython3",
   "version": "3.8.3"
  }
 },
 "nbformat": 4,
 "nbformat_minor": 4
}
